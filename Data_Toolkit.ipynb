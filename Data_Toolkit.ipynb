{
  "nbformat": 4,
  "nbformat_minor": 0,
  "metadata": {
    "colab": {
      "provenance": []
    },
    "kernelspec": {
      "name": "python3",
      "display_name": "Python 3"
    },
    "language_info": {
      "name": "python"
    }
  },
  "cells": [
    {
      "cell_type": "markdown",
      "source": [
        "# Data Toolkit"
      ],
      "metadata": {
        "id": "2ifjpVy3EFnb"
      }
    },
    {
      "cell_type": "markdown",
      "source": [
        "### 1. What is NumPy and why is it widely used in python?"
      ],
      "metadata": {
        "id": "nyItnxCCEFir"
      }
    },
    {
      "cell_type": "markdown",
      "source": [
        "NumPy (short for Numerical Python) is a powerful open-source library in Python that is used for numerical and scientific computing. It provides support for large, multi-dimensional arrays and matrices, along with a collection of mathematical functions to operate on them efficiently.\n",
        "\n",
        "Key Features of NumPy:\n",
        "\n",
        "1) N-dimensional array (ndarray) object:\n",
        "\n",
        "Central to NumPy, it allows fast and efficient storage and manipulation of data.\n",
        "\n",
        "More efficient than Python's native lists for large datasets.\n",
        "\n",
        "2) Broadcasting:\n",
        "\n",
        "Enables arithmetic operations between arrays of different shapes without copying data, simplifying code.\n",
        "\n",
        "3) Vectorized operations:\n",
        "\n",
        "NumPy operations are often performed at the compiled C level (behind the scenes), which makes them extremely fast compared to Python loops.\n",
        "\n",
        "4) Linear algebra, Fourier transforms, and statistics:\n",
        "\n",
        "Includes robust functionality for matrix operations, solving linear equations, and performing statistical analysis.\n",
        "\n",
        "5) Integration with C/C++ and Fortran code:\n",
        "\n",
        "Allows for high-performance computing and extension of NumPy functionalities.\n",
        "\n",
        "6) Interoperability:\n",
        "\n",
        "NumPy arrays are used as the standard for exchanging data between different scientific libraries in Python, such as SciPy, pandas, scikit-learn, TensorFlow, and PyTorch.\n",
        "\n",
        "Why NumPy is Widely Used in Python:\n",
        "\n",
        "- Performance: Significantly faster than native Python for array-based operations.\n",
        "\n",
        "- Foundation for other libraries: Many popular libraries in the data science and machine learning ecosystem are built on top of NumPy.\n",
        "\n",
        "- Ease of use: Simplifies many numerical computations with clean and readable syntax.\n",
        "\n",
        "- Community and documentation: Well-documented with a large and active user base."
      ],
      "metadata": {
        "id": "aZdpk5NSEFgK"
      }
    },
    {
      "cell_type": "markdown",
      "source": [
        "### 2. How does broadcasting work in NumPy ?"
      ],
      "metadata": {
        "id": "btxMcyJdEFdj"
      }
    },
    {
      "cell_type": "markdown",
      "source": [
        "NumPy is a foundational tool for scientific computing in Python due to its speed, efficiency, and broad range of capabilities for working with arrays and mathematical functions. It's essential for data science, machine learning, and computational tasks.\n",
        "\n",
        "Broadcasting in NumPy is a powerful mechanism that allows arithmetic operations between arrays of different shapes, by automatically expanding their dimensions in a way that makes the operation possible — without copying data.\n",
        "🔧 What is Broadcasting?\n",
        "\n",
        "Broadcasting rules let NumPy perform operations on arrays of different shapes by virtually replicating the smaller array along the mismatched dimensions.\n",
        "\n",
        "Broadcasting Rules:\n",
        "\n",
        "When performing operations on two arrays, NumPy compares their shapes element-wise from right to left. Two dimensions are compatible when:\n",
        "\n",
        "    They are equal, or\n",
        "\n",
        "    One of them is 1\n",
        "\n",
        "If the shapes are compatible, NumPy broadcasts the smaller array across the larger one so that they match in shape."
      ],
      "metadata": {
        "id": "NzRMoj6wEFaz"
      }
    },
    {
      "cell_type": "markdown",
      "source": [
        "### 3. What is a Pandas DataFrame ?"
      ],
      "metadata": {
        "id": "i2wyZ0wXEFYD"
      }
    },
    {
      "cell_type": "markdown",
      "source": [
        "A Pandas DataFrame is a two-dimensional, labeled data structure in Python that is part of the Pandas library — a powerful tool for data analysis and manipulation.\n",
        "\n",
        "You can think of it as a table, similar to a spreadsheet or SQL table, where:\n",
        "\n",
        "    Rows represent records (observations)\n",
        "\n",
        "    Columns represent variables (features)\n",
        "\n",
        "Key Characteristics of a DataFrame:\n",
        "\n",
        "    Labeled axes: Both rows (index) and columns have labels.\n",
        "\n",
        "    Heterogeneous data: Each column can have a different data type (e.g., int, float, string, datetime).\n",
        "\n",
        "    Size mutable: You can add, delete, or modify rows and columns.\n",
        "\n",
        "    Integrated with NumPy: Uses NumPy under the hood for fast computations."
      ],
      "metadata": {
        "id": "vaisDWzbEFVa"
      }
    },
    {
      "cell_type": "markdown",
      "source": [
        "### 4. Explain the use of the groupby() method in Pandas?"
      ],
      "metadata": {
        "id": "1Bwj43PZEFSa"
      }
    },
    {
      "cell_type": "markdown",
      "source": [
        "The groupby() method in Pandas is used to group data based on the values in one or more columns and then apply a function (like sum, mean, count, etc.) to each group.\n",
        "\n",
        "It’s especially powerful for data aggregation, summarization, and analysis — similar to SQL’s GROUP BY clause."
      ],
      "metadata": {
        "id": "NZhOe011EFQS"
      }
    },
    {
      "cell_type": "markdown",
      "source": [
        "### 5. Why is Seaborn preferred for statistical visualizations?"
      ],
      "metadata": {
        "id": "0zUNo9d-EFNi"
      }
    },
    {
      "cell_type": "markdown",
      "source": [
        "Seaborn is preferred for statistical visualizations in Python because it is specifically designed to make complex visualizations easy, beautiful, and informative, especially when dealing with structured data like DataFrames.\n",
        "\n",
        "Why Seaborn is Preferred:\n",
        "\n",
        "1. Built-in Statistical Plots\n",
        "\n",
        "Seaborn has built-in support for statistical plots like:\n",
        "\n",
        "    Histograms & KDEs (histplot, kdeplot)\n",
        "\n",
        "    Box plots, Violin plots, Swarm plots (boxplot, violinplot, swarmplot)\n",
        "\n",
        "    Linear regression plots (lmplot, regplot)\n",
        "\n",
        "    Categorical plots (catplot, stripplot)\n",
        "\n",
        "These plots are not only easy to create but also statistically informative out of the box.\n",
        "\n",
        "2. Works Directly with Pandas\n",
        "\n",
        "Seaborn integrates seamlessly with Pandas DataFrame\n",
        "\n",
        "3. Automatic Aesthetics\n",
        "\n",
        "Seaborn comes with sensible default themes and color palettes, so:\n",
        "\n",
        "    Plots look good without manual styling.\n",
        "\n",
        "    Complex plots can be created with minimal code.\n",
        "\n",
        "4. Support for Grouped and Multi-variable Plots\n",
        "\n",
        "You can easily plot data by category, hue, or facet:\n",
        "\n",
        "5. High-level Abstractions\n",
        "\n",
        "Seaborn abstracts a lot of complexity:\n",
        "\n",
        "    Easily create multi-plot grids (FacetGrid, pairplot, catplot)\n",
        "\n",
        "    Simplifies plotting of relationships between variables\n",
        "\n",
        "6. Better for Exploratory Data Analysis (EDA)\n",
        "\n",
        "Seaborn encourages quick generation of meaningful plots that reveal:\n",
        "\n",
        "    Trends\n",
        "\n",
        "    Distributions\n",
        "\n",
        "    Outliers\n",
        "\n",
        "    Correlations\n",
        "\n",
        "This makes it ideal for EDA workflows."
      ],
      "metadata": {
        "id": "e-JbczpXEFLE"
      }
    },
    {
      "cell_type": "markdown",
      "source": [
        "### 6. what are the difference between numpy array and python list?"
      ],
      "metadata": {
        "id": "VVSUf2nyz13C"
      }
    },
    {
      "cell_type": "markdown",
      "source": [
        "| Aspect                | NumPy Array                                                                       | Python List                                                              |\n",
        "| --------------------- | --------------------------------------------------------------------------------- | ------------------------------------------------------------------------ |\n",
        "| **Data Type**         | Homogeneous: All elements must be of the same type (e.g., all ints or all floats) | Heterogeneous: Can contain elements of different types                   |\n",
        "| **Performance**       | Much faster for numerical operations due to optimized C backend                   | Slower, especially for large numerical computations                      |\n",
        "| **Memory Efficiency** | More memory efficient — stores data in contiguous blocks                          | Less memory efficient; stores pointers to objects                        |\n",
        "| **Operations**        | Supports vectorized operations (element-wise arithmetic, broadcasting)            | Operations usually require loops or list comprehensions                  |\n",
        "| **Functionality**     | Extensive mathematical functions and linear algebra support                       | Basic data structure with no built-in math functions                     |\n",
        "| **Dimensionality**    | Supports multi-dimensional arrays natively (1D, 2D, 3D, etc.)                     | Lists of lists can mimic multi-dimensional arrays but are less efficient |\n",
        "| **Mutability**        | Mutable (elements can be changed)                                                 | Mutable (elements can be changed)                                        |\n",
        "| **Use Case**          | Ideal for numerical computations, scientific computing, and large datasets        | General-purpose container for heterogeneous data                         |\n"
      ],
      "metadata": {
        "id": "tFo2Rv-Qz16y"
      }
    },
    {
      "cell_type": "markdown",
      "source": [
        "### 7. What is a heatmap, and when should it be used?"
      ],
      "metadata": {
        "id": "b_GPHX_0EFIj"
      }
    },
    {
      "cell_type": "markdown",
      "source": [
        "Visually represents data in a 2D table where:\n",
        "\n",
        "- Rows and columns represent variables or categories.\n",
        "\n",
        "- Color indicates the magnitude of a value — typically using a colormap (e.g., light to dark, cold to hot).\n",
        "\n",
        "When Should You Use a Heatmap?\n",
        "\n",
        "1. Visualizing Correlations\n",
        "\n",
        "    Great for displaying correlation matrices.\n",
        "\n",
        "    Helps quickly identify relationships (positive, negative, or none) between variables.\n",
        "\n",
        "2. Comparing Two Categorical Variables\n",
        "\n",
        "    When you want to show the relationship between two categorical variables using counts or averages.\n",
        "\n",
        "3. Viewing Missing Data\n",
        "\n",
        "    Heatmaps can show where data is missing (sns.heatmap(df.isnull())).\n",
        "\n",
        "4. Highlighting Patterns in Data Grids\n",
        "\n",
        "    Useful for time series, confusion matrices, or any matrix-like data (e.g., gene expression, sports stats, etc.).\n",
        "\n",
        "\n",
        "  | Use Case                | Description                             |\n",
        "| ----------------------- | --------------------------------------- |\n",
        "| **Correlation matrix**  | Identify multicollinearity in features  |\n",
        "| **Missing data matrix** | Quickly locate NaNs in a dataset        |\n",
        "| **Confusion matrix**    | Evaluate classification models visually |\n",
        "| **Pivot tables**        | Visualize grouped summary stats         |\n",
        "\n",
        "When Not to Use a Heatmap\n",
        "\n",
        "- When data is not naturally grid-like or matrix-structured.\n",
        "\n",
        "- When the viewer may struggle with interpreting color scales — in such cases, consider adding annotations or using bar plots for clarity.\n"
      ],
      "metadata": {
        "id": "TenZ733xEFF6"
      }
    },
    {
      "cell_type": "markdown",
      "source": [
        "### 8. What does the term “vectorized operation” mean in NumPy?"
      ],
      "metadata": {
        "id": "ODL7FhaAEFDa"
      }
    },
    {
      "cell_type": "markdown",
      "source": [
        "In NumPy, the term \"vectorized operation\" refers to performing operations on entire arrays (vectors, matrices, etc.) without using explicit loops in Python. Instead of iterating over elements manually, NumPy uses optimized, low-level implementations (typically in C) that operate on entire arrays at once.\n",
        "🔍 Key Concepts of Vectorized Operations:\n",
        "\n",
        "    Element-wise operations: Applying an operation to each element of an array automatically.\n",
        "\n",
        "    Performance: Vectorized code runs much faster than equivalent code using Python loops.\n",
        "\n",
        "    Concise code: Makes code shorter and easier to read."
      ],
      "metadata": {
        "id": "3pMSII3BEFBC"
      }
    },
    {
      "cell_type": "code",
      "source": [
        "# Without vectorization using for loop\n",
        "\n",
        "import numpy as np\n",
        "\n",
        "a = np.array([1, 2, 3, 4])\n",
        "b = np.array([5, 6, 7, 8])\n",
        "result = []\n",
        "\n",
        "for i in range(len(a)):\n",
        "    result.append(a[i] + b[i])\n",
        "\n",
        "print(result)\n"
      ],
      "metadata": {
        "colab": {
          "base_uri": "https://localhost:8080/"
        },
        "id": "vf9elz94fj6M",
        "outputId": "8d1aed67-65ec-4499-8c74-27d15c9e6711"
      },
      "execution_count": null,
      "outputs": [
        {
          "output_type": "stream",
          "name": "stdout",
          "text": [
            "[np.int64(6), np.int64(8), np.int64(10), np.int64(12)]\n"
          ]
        }
      ]
    },
    {
      "cell_type": "code",
      "source": [
        "# With vectorization:\n",
        "\n",
        "import numpy as np\n",
        "\n",
        "a = np.array([1, 2, 3, 4])\n",
        "b = np.array([5, 6, 7, 8])\n",
        "result = a + b\n",
        "\n",
        "print(result)\n"
      ],
      "metadata": {
        "colab": {
          "base_uri": "https://localhost:8080/"
        },
        "id": "MvwWgHOdfq4o",
        "outputId": "e4909005-d5c1-47cd-b2ec-78ca8f3ada87"
      },
      "execution_count": null,
      "outputs": [
        {
          "output_type": "stream",
          "name": "stdout",
          "text": [
            "[ 6  8 10 12]\n"
          ]
        }
      ]
    },
    {
      "cell_type": "markdown",
      "source": [
        "### 9. How does Matplotlib differ from Plotly ?"
      ],
      "metadata": {
        "id": "lvfykr6-EE-F"
      }
    },
    {
      "cell_type": "markdown",
      "source": [
        "| Feature           | **Matplotlib**                                 | **Plotly**                                                     |\n",
        "| ----------------- | ---------------------------------------------- | -------------------------------------------------------------- |\n",
        "| **Interactivity** | Static plots by default; limited interactivity | Fully interactive and dynamic by default                       |\n",
        "| **Plot Style**    | Traditional, publication-style plots           | Modern, sleek, web-based visualizations                        |\n",
        "| **Ease of Use**   | More control, but often more verbose           | High-level API is often simpler for interactivity              |\n",
        "| **Customization** | Very customizable (but sometimes complex)      | Also customizable, especially with JSON configs                |\n",
        "| **Output Format** | Images (PNG, PDF, SVG)                         | HTML, JSON (for embedding), PNG, etc.                          |\n",
        "| **Performance**   | Efficient for static plots                     | Heavier, can be slower with large datasets                     |\n",
        "| **3D Plotting**   | Basic 3D (via `mpl_toolkits.mplot3d`)          | Advanced 3D plotting (smooth, interactive)                     |\n",
        "| **Usage Context** | Scientific computing, academic settings        | Dashboards, web apps, business intelligence                    |\n",
        "| **Integration**   | Works well with Jupyter and scripts            | Best in Jupyter, Dash apps, and web notebooks                  |\n",
        "| **Licensing**     | Open-source (BSD)                              | Open-source core (MIT); some features under commercial license |\n",
        "\n",
        "\n",
        " When to Use Each\n",
        "\n",
        "    Use Matplotlib if:\n",
        "\n",
        "        You need publication-quality static plots.\n",
        "\n",
        "        You're working in scientific computing or academia.\n",
        "\n",
        "        You want full control over every aspect of your plots.\n",
        "\n",
        "    Use Plotly if:\n",
        "\n",
        "        You need interactive or web-based plots.\n",
        "\n",
        "        You're building dashboards (e.g., with Dash).\n",
        "\n",
        "        You want quick, attractive visualizations for presentations or web apps.\n"
      ],
      "metadata": {
        "id": "aIeKQf52gruU"
      }
    },
    {
      "cell_type": "markdown",
      "source": [
        "### 10. What is the significance of hierarchical indexing in Pandas"
      ],
      "metadata": {
        "id": "wntOaC6RiMeb"
      }
    },
    {
      "cell_type": "markdown",
      "source": [
        "Significance of Hierarchical Indexing in Pandas\n",
        "\n",
        "1. Supports Higher-Dimensional Data\n",
        "\n",
        "    Lets you represent multi-dimensional data in a 2D DataFrame.\n",
        "\n",
        "    For example, panel data (like time-series data across different categories) can be organized with a MultiIndex.\n",
        "\n",
        "2. Enables Complex Grouping and Subsetting\n",
        "\n",
        "    Makes it easy to group by multiple keys, slice, or filter subsets of data.\n",
        "\n",
        "    You can select data at any level of the index.\n",
        "\n",
        "3. Improves Data Organization and Clarity\n",
        "\n",
        "    Helps structure complex data more naturally, especially when there are multiple levels of granularity (e.g., Country → State → City).\n",
        "\n",
        "4. Facilitates Reshaping (stack/unstack)\n",
        "\n",
        "    You can pivot data between wide and long formats easily using .stack() and .unstack()."
      ],
      "metadata": {
        "id": "5xbSJ6HdiMbj"
      }
    },
    {
      "cell_type": "markdown",
      "source": [
        "### 11. What is the role of Seaborn’s pairplot() function?"
      ],
      "metadata": {
        "id": "7GH9KyODgrsJ"
      }
    },
    {
      "cell_type": "markdown",
      "source": [
        "The seaborn.pairplot() function plays a key role in exploratory data analysis (EDA) by allowing you to quickly visualize pairwise relationships in a dataset.\n",
        "\n",
        "What Does pairplot() Do?\n",
        "\n",
        "pairplot() creates a matrix of scatter plots (and histograms or KDEs on the diagonal) for every pair of numeric variables in a DataFrame.\n",
        "\n",
        "It helps you:\n",
        "\n",
        "    Detect correlations between features\n",
        "\n",
        "    Visualize the distribution of each variable\n",
        "\n",
        "    Identify patterns, clusters, or outliers\n",
        "\n",
        "    Explore how variables relate across different categories (if hue is used)\n",
        "\n",
        "| Parameter   | Description                                       |\n",
        "| ----------- | ------------------------------------------------- |\n",
        "| `data`      | Pandas DataFrame with numeric data                |\n",
        "| `hue`       | Column name to color-code by category             |\n",
        "| `kind`      | `'scatter'` (default), `'kde'`, or `'reg'`        |\n",
        "| `diag_kind` | `'auto'`, `'hist'`, or `'kde'` for diagonal plots |\n",
        "| `markers`   | Marker style for scatter plots                    |\n",
        "| `palette`   | Color palette for `hue` categories                |\n"
      ],
      "metadata": {
        "id": "L18GbhiegrqI"
      }
    },
    {
      "cell_type": "markdown",
      "source": [
        "### 12.What is the purpose of the describe() function in Pandas?"
      ],
      "metadata": {
        "id": "0U4Jam_Ggrn5"
      }
    },
    {
      "cell_type": "markdown",
      "source": [
        "The .describe() function in Pandas is used to quickly generate summary statistics of a DataFrame or Series, giving you a statistical overview of the data.\n",
        "\n",
        "Purpose of describe()\n",
        "\n",
        "It helps with:\n",
        "\n",
        "- Exploratory Data Analysis (EDA): Quickly understand distributions, spot anomalies, or get a \"first glance\" at your data.\n",
        "\n",
        "- Statistical summary: Get key metrics like mean, standard deviation, min/max, and percentiles.\n",
        "\n",
        "- Detecting outliers or skewness: See if values fall outside expected ranges."
      ],
      "metadata": {
        "id": "XFhao7FegrlZ"
      }
    },
    {
      "cell_type": "markdown",
      "source": [
        "### 13. Why is handling missing data important in Pandas?"
      ],
      "metadata": {
        "id": "-NLdA5nbgri6"
      }
    },
    {
      "cell_type": "markdown",
      "source": [
        "Handling missing data is critically important in Pandas (and data analysis in general) because missing values can significantly distort results, reduce model accuracy, or cause errors in computation.\n",
        "\n",
        " Why Handling Missing Data Matters\n",
        "\n",
        "1.  Ensures Data Integrity\n",
        "\n",
        "    Missing values can lead to incorrect assumptions or misleading statistics.\n",
        "\n",
        "    For example, calculating a mean or correlation without handling NaNs can yield inaccurate or undefined results.\n",
        "\n",
        "2. Prevents Model Errors\n",
        "\n",
        "    Most machine learning algorithms (e.g., in Scikit-learn) do not accept missing values.\n",
        "\n",
        "    You must fill or drop them before training models to avoid runtime errors.\n",
        "\n",
        "3. Improves Analytical Accuracy\n",
        "\n",
        "    Missing values may bias analysis or weaken insights if left unaddressed.\n",
        "\n",
        "    Proper handling leads to cleaner, more trustworthy data.\n",
        "\n",
        "4. Enables Consistent Operations\n",
        "\n",
        "    Operations like sum(), mean(), and plotting can behave differently or fail when NaN values are present.\n",
        "\n",
        "    Pandas functions typically skip NaN by default, but this can lead to confusion or hidden problems if not handled deliberately."
      ],
      "metadata": {
        "id": "Bf0pE1IojIZQ"
      }
    },
    {
      "cell_type": "markdown",
      "source": [
        "### 14. What are the benefits of using Plotly for data visualization?"
      ],
      "metadata": {
        "id": "hTCKNJucjIW1"
      }
    },
    {
      "cell_type": "markdown",
      "source": [
        "Key Benefits of Using Plotly for Data Visualization\n",
        "\n",
        "1. Interactive Plots by Default\n",
        "\n",
        "    Zoom, pan, hover, and click interactions are built in.\n",
        "\n",
        "    Useful for exploring large datasets or uncovering trends without coding extra UI logic.\n",
        "\n",
        "2. Web-Ready Visualizations\n",
        "\n",
        "    Generates plots as HTML/JavaScript, perfect for dashboards, web apps, or embedding in websites.\n",
        "\n",
        "    Works seamlessly with frameworks like Dash, Jupyter Notebooks, and Streamlit.\n",
        "\n",
        "3. Beautiful and Polished Aesthetics\n",
        "\n",
        "    Modern, clean styles out of the box.\n",
        "\n",
        "    Easier to create presentation-quality graphics with minimal effort.\n",
        "\n",
        "4. High-Level API (Plotly Express)\n",
        "\n",
        "    plotly.express lets you create complex plots with one-liners.\n",
        "\n",
        "    Great for rapid prototyping and exploratory data analysis.\n",
        "\n",
        "5. Supports a Wide Variety of Chart Types\n",
        "\n",
        "    Line, bar, pie, scatter, heatmap, box, violin, 3D, choropleth maps, animations, etc.\n",
        "\n",
        "    Especially good for geospatial, time series, and 3D visualizations.\n",
        "\n",
        "6. Customizable & Flexible\n",
        "\n",
        "    Can fine-tune nearly every element: layout, traces, annotations, colors, tooltips, etc.\n",
        "\n",
        "    Also supports callbacks and dynamic updates via Dash.\n",
        "\n",
        "7. Supports Animation\n",
        "\n",
        "    Easily animate data across time or categories to tell a story.\n",
        "\n",
        "    Very useful for presentations or explanatory visualizations.\n",
        "\n",
        "8. Integrates with Dash for Dashboarding\n",
        "\n",
        "    Dash is Plotly’s open-source app framework.\n",
        "\n",
        "    Lets you build full-fledged interactive web dashboards with Python only (no JavaScript needed)."
      ],
      "metadata": {
        "id": "rUtD2R6LjIU4"
      }
    },
    {
      "cell_type": "markdown",
      "source": [
        "### 15. How does NumPy handle multidimensional arrays"
      ],
      "metadata": {
        "id": "s4G3OTqzjIPB"
      }
    },
    {
      "cell_type": "markdown",
      "source": [
        "1. Unified Data Structure: ndarray\n",
        "\n",
        "    Every array in NumPy is an instance of numpy.ndarray.\n",
        "\n",
        "    Whether it's a vector (1D), matrix (2D), or higher-dimensional tensor, it’s all the same object type under the hood.\n",
        "\n",
        "2.  Shape and Dimensions\n",
        "\n",
        "    Shape: A tuple representing the size along each axis.\n",
        "\n",
        "    ndim: The number of dimensions (axes).\n",
        "\n",
        "    size: Total number of elements."
      ],
      "metadata": {
        "id": "nTf7pKRkjIG4"
      }
    },
    {
      "cell_type": "code",
      "source": [
        "import numpy as np\n",
        "\n",
        "arr = np.array([[1, 2, 3], [4, 5, 6]])\n",
        "print(arr.shape)   # (2, 3) → 2 rows, 3 columns\n",
        "print(arr.ndim)    # 2 → it's a 2D array\n",
        "print(arr.size)    # 6 → total elements\n"
      ],
      "metadata": {
        "id": "xpq6AOC8ktLc"
      },
      "execution_count": null,
      "outputs": []
    },
    {
      "cell_type": "markdown",
      "source": [
        "3. Indexing and Slicing\n",
        "\n",
        "    Multidimensional arrays use tuple-based indexing:"
      ],
      "metadata": {
        "id": "i6CMq8hujIEh"
      }
    },
    {
      "cell_type": "code",
      "source": [
        "arr[0, 1]  # Access row 0, column 1 (value: 2)\n",
        "arr[:, 1]  # Get all rows in column 1"
      ],
      "metadata": {
        "id": "B5W6gT6pk4S1"
      },
      "execution_count": null,
      "outputs": []
    },
    {
      "cell_type": "markdown",
      "source": [
        "4. Broadcasting\n",
        "\n",
        "    NumPy can perform element-wise operations between arrays of different shapes using broadcasting rules."
      ],
      "metadata": {
        "id": "D6LAvBIjjIB4"
      }
    },
    {
      "cell_type": "code",
      "source": [
        "a = np.array([[1], [2], [3]])\n",
        "b = np.array([10, 20, 30])\n",
        "result = a + b  # Broadcasting to (3, 3)"
      ],
      "metadata": {
        "id": "Ow6vrPiYlEvE"
      },
      "execution_count": null,
      "outputs": []
    },
    {
      "cell_type": "markdown",
      "source": [
        "5. Reshaping and Transposing\n",
        "\n",
        "    You can reshape arrays to different dimensions using:"
      ],
      "metadata": {
        "id": "730Xyqx7jH_R"
      }
    },
    {
      "cell_type": "code",
      "source": [
        "arr.reshape(3, 2)\n",
        "arr.T  # Transpose for 2D arrays"
      ],
      "metadata": {
        "id": "HzeWoSmTlLDU"
      },
      "execution_count": null,
      "outputs": []
    },
    {
      "cell_type": "markdown",
      "source": [
        "### 16. What is the role of Bokeh in data visualization?"
      ],
      "metadata": {
        "id": "A_vrDQupjHtZ"
      }
    },
    {
      "cell_type": "markdown",
      "source": [
        "Bokeh is a powerful Python library for creating interactive, web-ready data visualizations. Its primary role is to make it easy to build dynamic, real-time, and browser-based plots and dashboards—especially for large or streaming datasets.\n",
        "\n",
        "Role of Bokeh in Data Visualization\n",
        "\n",
        "1. Interactive Web Visualizations\n",
        "\n",
        "    Unlike static libraries (like Matplotlib), Bokeh renders graphics in the browser using HTML, JavaScript, and WebGL.\n",
        "\n",
        "    Plots come with built-in interactivity: zooming, panning, tooltips, selection, and linked brushing.\n",
        "\n",
        "2. Declarative and Flexible API\n",
        "\n",
        "    You can use high-level functions (bokeh.plotting) for quick charts.\n",
        "\n",
        "    Or dive into low-level control (bokeh.models) for building custom visualizations or complex dashboards.\n",
        "\n",
        "3. Streaming & Real-Time Data Support\n",
        "\n",
        "    One of Bokeh’s standout features is its ability to stream live data into a plot.\n",
        "\n",
        "    Great for monitoring systems, IoT dashboards, or financial tickers.\n",
        "\n",
        "4. Rich Set of Plot Types\n",
        "\n",
        "    Line, bar, scatter, heatmap, network graph, time series, geospatial maps, and more.\n",
        "\n",
        "    Easy to add widgets like sliders, dropdowns, buttons to interact with plots dynamically.\n",
        "\n",
        "\n",
        "5. Server-Side Interactivity with Bokeh Server\n",
        "\n",
        "    With the Bokeh Server, you can build interactive apps and dashboards using Python callbacks without writing JavaScript.\n",
        "\n",
        "    Useful for creating live dashboards or interactive data exploration tools.\n",
        "\n",
        "Typical Use Cases\n",
        "\n",
        "1) Interactive data exploration\n",
        "\n",
        "2) Business dashboards\n",
        "\n",
        "3) Real-time monitoring\n",
        "\n",
        "4) Educational tools\n",
        "\n",
        "5) Scientific reporting"
      ],
      "metadata": {
        "id": "aQ2_x1zAmsby"
      }
    },
    {
      "cell_type": "markdown",
      "source": [
        "### 17. Explain the difference between apply() and map() in Pandas?"
      ],
      "metadata": {
        "id": "So3O8zIvmsYx"
      }
    },
    {
      "cell_type": "markdown",
      "source": [
        "Great question! In Pandas, both .apply() and .map() are used to transform data, but they differ in scope, flexibility, and where they're used.\n",
        "\n",
        "| Feature           | `map()`                    | `apply()`                                                |\n",
        "| ----------------- | -------------------------- | -------------------------------------------------------- |\n",
        "| **Used on**       | Series only                | Series or DataFrame                                      |\n",
        "| **Applies to**    | Each element of the Series | Series: elements or functions<br>DataFrame: rows/columns |\n",
        "| **Function type** | Element-wise functions     | Row-wise, column-wise, or element-wise                   |\n",
        "| **Return type**   | Series (same shape)        | Depends: Series, DataFrame, or scalar                    |\n",
        "| **Flexibility**   | Less flexible              | More flexible                                            |\n",
        "\n",
        "\n",
        "When to Use map()\n",
        "\n",
        "Use map() when you want to transform or map values in a Series using:\n",
        "\n",
        "- A function\n",
        "\n",
        "- A dictionary (for lookup)\n",
        "\n",
        "- A Series\n",
        "\n",
        "When to Use apply()\n",
        "\n",
        "Use apply() when you need to:\n",
        "\n",
        "- Apply a function to each row or column in a DataFrame\n",
        "\n",
        "- Apply a more complex or custom transformation"
      ],
      "metadata": {
        "id": "9gcyJCWLmsWL"
      }
    },
    {
      "cell_type": "markdown",
      "source": [
        "### 18. What are some advanced features of NumPy?"
      ],
      "metadata": {
        "id": "XKeOtf0OoLXm"
      }
    },
    {
      "cell_type": "markdown",
      "source": [
        "1. Broadcasting\n",
        "\n",
        "    Allows arithmetic operations on arrays with different shapes without explicit looping."
      ],
      "metadata": {
        "id": "08s-zSrxoLLE"
      }
    },
    {
      "cell_type": "code",
      "source": [
        "a = np.array([1, 2, 3])\n",
        "b = 10\n",
        "a + b  # [11, 12, 13] — b is \"broadcast\" to match a's shape"
      ],
      "metadata": {
        "colab": {
          "base_uri": "https://localhost:8080/"
        },
        "id": "KUZecUc1ohe7",
        "outputId": "8f0dd751-9e37-4c83-ebf4-4afbf6381cef"
      },
      "execution_count": null,
      "outputs": [
        {
          "output_type": "execute_result",
          "data": {
            "text/plain": [
              "array([11, 12, 13])"
            ]
          },
          "metadata": {},
          "execution_count": 7
        }
      ]
    },
    {
      "cell_type": "markdown",
      "source": [
        "2. Vectorized Operations\n",
        "\n",
        "    Apply operations to entire arrays without Python loops, leading to much faster execution."
      ],
      "metadata": {
        "id": "2x52AzjzoLJJ"
      }
    },
    {
      "cell_type": "code",
      "source": [
        "a = np.array([1, 2, 3])\n",
        "b = np.array([4, 5, 6])\n",
        "a * b  # [4, 10, 18]\n"
      ],
      "metadata": {
        "colab": {
          "base_uri": "https://localhost:8080/"
        },
        "id": "2TN6_MHupKv5",
        "outputId": "680ac991-b7f2-4b28-b09e-4d15e79a82f1"
      },
      "execution_count": null,
      "outputs": [
        {
          "output_type": "execute_result",
          "data": {
            "text/plain": [
              "array([ 4, 10, 18])"
            ]
          },
          "metadata": {},
          "execution_count": 8
        }
      ]
    },
    {
      "cell_type": "markdown",
      "source": [
        "3. Advanced Indexing and Slicing\n",
        "\n",
        "    Boolean indexing, fancy indexing, and multi-dimensional slicing."
      ],
      "metadata": {
        "id": "pzpsNg39oLGB"
      }
    },
    {
      "cell_type": "code",
      "source": [
        "arr = np.array([[1, 2], [3, 4], [5, 6]])\n",
        "arr[arr > 3]  # [4, 5, 6]"
      ],
      "metadata": {
        "colab": {
          "base_uri": "https://localhost:8080/"
        },
        "id": "L5P4pZT5pTvH",
        "outputId": "376ad0fe-194d-4458-f046-94d65e7691cb"
      },
      "execution_count": null,
      "outputs": [
        {
          "output_type": "execute_result",
          "data": {
            "text/plain": [
              "array([4, 5, 6])"
            ]
          },
          "metadata": {},
          "execution_count": 9
        }
      ]
    },
    {
      "cell_type": "markdown",
      "source": [
        "4. Structured Arrays\n",
        "\n",
        "    Arrays with heterogeneous data types (like a C struct)."
      ],
      "metadata": {
        "id": "z1LP3xLvoLDX"
      }
    },
    {
      "cell_type": "code",
      "source": [
        "dt = np.dtype([('name', 'U10'), ('age', 'i4')])\n",
        "data = np.array([('Alice', 25), ('Bob', 30)], dtype=dt)"
      ],
      "metadata": {
        "id": "QeIE-XoqpaGH"
      },
      "execution_count": null,
      "outputs": []
    },
    {
      "cell_type": "markdown",
      "source": [
        "5. Memory Mapping with memmap\n",
        "\n",
        "    Efficiently work with very large arrays stored on disk without loading them fully into memory."
      ],
      "metadata": {
        "id": "xXCKpCubpiXF"
      }
    },
    {
      "cell_type": "code",
      "source": [
        "np.memmap('big_array.dat', dtype='float32', mode='r', shape=(10000, 10000))"
      ],
      "metadata": {
        "id": "u9BZtxp8pkWW"
      },
      "execution_count": null,
      "outputs": []
    },
    {
      "cell_type": "markdown",
      "source": [
        "6. Linear Algebra with np.linalg\n",
        "\n",
        "    Functions like matrix multiplication, inverse, determinant, eigenvalues, SVD, and more."
      ],
      "metadata": {
        "id": "wlavyiZCpiNO"
      }
    },
    {
      "cell_type": "code",
      "source": [
        "from numpy.linalg import inv, eig\n",
        "\n",
        "A = np.array([[1, 2], [3, 4]])\n",
        "inv(A)  # Matrix inverse\n",
        "eig(A)  # Eigenvalues and eigenvectors"
      ],
      "metadata": {
        "id": "RgDAEbAlp9XM"
      },
      "execution_count": null,
      "outputs": []
    },
    {
      "cell_type": "markdown",
      "source": [
        "7. Random Sampling with np.random\n",
        "\n",
        "    Extensive random number generation and probability distributions."
      ],
      "metadata": {
        "id": "zYnaXa7apiH-"
      }
    },
    {
      "cell_type": "code",
      "source": [
        "np.random.normal(loc=0, scale=1, size=1000)"
      ],
      "metadata": {
        "id": "Khp78jc2qGP0"
      },
      "execution_count": null,
      "outputs": []
    },
    {
      "cell_type": "markdown",
      "source": [
        "8. Masked Arrays\n",
        "\n",
        "    Handle data with missing or invalid entries using numpy.ma."
      ],
      "metadata": {
        "id": "r_qcjRHcpiFd"
      }
    },
    {
      "cell_type": "code",
      "source": [
        "import numpy.ma as ma\n",
        "masked = ma.masked_array([1, 2, -999], mask=[0, 0, 1])"
      ],
      "metadata": {
        "id": "pRoX5v5vqMnT"
      },
      "execution_count": null,
      "outputs": []
    },
    {
      "cell_type": "markdown",
      "source": [
        "9. Multi-dimensional Iteration with nditer\n",
        "\n",
        "    Advanced, flexible looping over arrays of any shape."
      ],
      "metadata": {
        "id": "XsmFhDlwpiCm"
      }
    },
    {
      "cell_type": "code",
      "source": [
        "for x in np.nditer(arr):\n",
        "    print(x)\n"
      ],
      "metadata": {
        "id": "x8ZwNjpIqUmb"
      },
      "execution_count": null,
      "outputs": []
    },
    {
      "cell_type": "markdown",
      "source": [
        "10. Performance Tricks\n",
        "\n",
        "    np.vectorize() to apply Python functions efficiently.\n",
        "\n",
        "    np.fromfunction() to build arrays using a function on indices.\n",
        "\n",
        "    In-place operations to reduce memory usage."
      ],
      "metadata": {
        "id": "7USX71JGoLAn"
      }
    },
    {
      "cell_type": "markdown",
      "source": [
        "### 19.How does Pandas simplify time series analysis"
      ],
      "metadata": {
        "id": "n8Ct2HV6qyNB"
      }
    },
    {
      "cell_type": "markdown",
      "source": [
        "Pandas simplifies time series analysis in Python by providing a high-level interface and efficient tools specifically designed for handling date and time data. Here are the key ways Pandas makes time series analysis easier:\n",
        "\n",
        "\n",
        "1.Datetime Indexing and Resampling\n",
        "\n",
        "DatetimeIndex: You can use timestamps as index values, which allows time-based selection and slicing."
      ],
      "metadata": {
        "id": "QQBTXaG9qyKn"
      }
    },
    {
      "cell_type": "code",
      "source": [
        "df['2023-01']  # Select all data from January 2023"
      ],
      "metadata": {
        "id": "ori1Dq1naVJj"
      },
      "execution_count": null,
      "outputs": []
    },
    {
      "cell_type": "code",
      "source": [
        "# Resampling: Easily aggregate data by different time frequencies.\n",
        "\n",
        "df.resample('M').mean()  # Resample to monthly means"
      ],
      "metadata": {
        "id": "8U6LmMgJacZT"
      },
      "execution_count": null,
      "outputs": []
    },
    {
      "cell_type": "markdown",
      "source": [
        "2.Date Range Generation\n",
        "\n",
        "Create sequences of dates with pd.date_range(), useful for building time-based indexes."
      ],
      "metadata": {
        "id": "Gt1WZygoqyIp"
      }
    },
    {
      "cell_type": "code",
      "source": [
        "pd.date_range(start='2023-01-01', periods=10, freq='D')"
      ],
      "metadata": {
        "id": "sXTR3RuVba77"
      },
      "execution_count": null,
      "outputs": []
    },
    {
      "cell_type": "markdown",
      "source": [
        "3.Frequency Conversion\n",
        "\n",
        "Easily convert time series data to a different frequency using .asfreq()."
      ],
      "metadata": {
        "id": "gY_rOkyiqyEo"
      }
    },
    {
      "cell_type": "code",
      "source": [
        "df.asfreq('D')  # Convert to daily frequency"
      ],
      "metadata": {
        "id": "RWLEFzuLbqmh"
      },
      "execution_count": null,
      "outputs": []
    },
    {
      "cell_type": "markdown",
      "source": [
        "4.Time Zone Handling\n",
        "\n",
        "Simplifies time zone conversion and localization."
      ],
      "metadata": {
        "id": "L8iGjooVqyCR"
      }
    },
    {
      "cell_type": "code",
      "source": [
        "df.tz_localize('UTC').tz_convert('US/Eastern')"
      ],
      "metadata": {
        "id": "AN8KA8csb303"
      },
      "execution_count": null,
      "outputs": []
    },
    {
      "cell_type": "markdown",
      "source": [
        "5.Rolling and Expanding Windows\n",
        "\n",
        "Compute moving averages, rolling sums, etc."
      ],
      "metadata": {
        "id": "6VDqOwcuqyAB"
      }
    },
    {
      "cell_type": "code",
      "source": [
        "df.rolling(window=7).mean()  # 7-day moving average"
      ],
      "metadata": {
        "id": "qjHKPuFDb-en"
      },
      "execution_count": null,
      "outputs": []
    },
    {
      "cell_type": "markdown",
      "source": [
        "6.Date Offsets and Shifting\n",
        "\n",
        "Shift time series forward or backward."
      ],
      "metadata": {
        "id": "ucX-SURDqx9h"
      }
    },
    {
      "cell_type": "code",
      "source": [
        "df.shift(1)  # Lag by one period\n",
        "df.tshift(1, freq='M')  # Shift by one month"
      ],
      "metadata": {
        "id": "um-HIwXPcYSn"
      },
      "execution_count": null,
      "outputs": []
    },
    {
      "cell_type": "markdown",
      "source": [
        "7.Built-in Date Parsing\n",
        "\n",
        "Automatically parse datetime columns when loading data."
      ],
      "metadata": {
        "id": "-L9dSdKKmsSZ"
      }
    },
    {
      "cell_type": "code",
      "source": [
        "pd.read_csv('file.csv', parse_dates=['date_column'])"
      ],
      "metadata": {
        "id": "P9wJlwNRchrY"
      },
      "execution_count": null,
      "outputs": []
    },
    {
      "cell_type": "markdown",
      "source": [
        "8.Easy Plotting\n",
        "\n",
        "Integrated with Matplotlib to quickly visualize time series."
      ],
      "metadata": {
        "id": "8ttGhWqscoQD"
      }
    },
    {
      "cell_type": "code",
      "source": [
        "df.plot()"
      ],
      "metadata": {
        "id": "pFALD4Hgc6G0"
      },
      "execution_count": null,
      "outputs": []
    },
    {
      "cell_type": "markdown",
      "source": [
        "### 20. what is the role of a pivot table in pandas?"
      ],
      "metadata": {
        "id": "YSQLg8SKcoNZ"
      }
    },
    {
      "cell_type": "markdown",
      "source": [
        "In Pandas, a pivot table is a powerful tool used to summarize, aggregate, and reorganize data—similar to pivot tables in Excel.\n",
        "\n",
        "Role of a Pivot Table in Pandas\n",
        "\n",
        "A pivot table helps you:\n",
        "\n",
        "    Summarize large datasets quickly.\n",
        "\n",
        "    Aggregate values using functions like mean, sum, count, etc.\n",
        "\n",
        "    Reshape data for easier analysis or visualization.\n",
        "\n",
        "    Compare subgroups across categories.\n",
        "\n",
        "Key Parameters of pd.pivot_table():\n",
        "\n",
        "\n",
        "1) data: The DataFrame to operate on.\n",
        "\n",
        "2) values: Column(s) to aggregate.\n",
        "\n",
        "3) index: Column(s) to group by as rows.\n",
        "\n",
        "4) columns: Column(s) to group by as columns.\n",
        "\n",
        "5) aggfunc: Aggregation function (mean, sum, count, etc.)\n",
        "\n",
        "\n",
        "Benefits\n",
        "\n",
        "    Clean, readable summaries.\n",
        "\n",
        "    Handles missing data gracefully.\n",
        "\n",
        "    Works well for reporting and dashboards.\n",
        "\n",
        "\n",
        " Common Use Cases\n",
        "\n",
        "    Sales by region/month\n",
        "\n",
        "    Average scores by student/subject\n",
        "\n",
        "    Inventory by category/store"
      ],
      "metadata": {
        "id": "wRAUm93mcoKx"
      }
    },
    {
      "cell_type": "markdown",
      "source": [
        "### 21 why is numPy's array is slicing faster than python's list slicing?"
      ],
      "metadata": {
        "id": "HKU-SvLecoH5"
      }
    },
    {
      "cell_type": "markdown",
      "source": [
        "NumPy's array slicing is faster than Python's list slicing because of several key architectural and performance differences:\n",
        "\n",
        "1. Memory Layout (Contiguous Memory Block)\n",
        "\n",
        "- NumPy arrays store data in a contiguous block of memory, like a C array.\n",
        "\n",
        "- Python lists are arrays of pointers to objects (each element is a reference to a Python object scattered in memory).\n",
        "\n",
        "Impact: Accessing NumPy array elements is faster because the data is stored densely and requires less pointer chasing.\n",
        "\n",
        "2. Homogeneous Data Type\n",
        "\n",
        "- NumPy arrays are typed, meaning all elements are of the same data type (e.g., int32, float64).\n",
        "\n",
        "- Python lists are heterogeneous, and every element carries type and object metadata.\n",
        "\n",
        "Impact: Less overhead per element in NumPy; operations are optimized for a fixed data type.\n",
        "\n",
        "3. Slicing as a View (Not a Copy)\n",
        "\n",
        "- NumPy slicing returns a view (a reference to the original data, not a copy).\n",
        "\n",
        "- Python list slicing returns a new list (a shallow copy of the selected elements).\n",
        "\n",
        "Impact: NumPy slicing is faster and uses less memory, especially on large arrays.\n",
        "\n",
        "4. Implemented in C\n",
        "\n",
        "- NumPy operations are implemented in high-performance C code behind the scenes.\n",
        "\n",
        "- Python lists are fully managed by the Python interpreter, which is slower.\n",
        "\n",
        "Impact: Lower-level, compiled code = faster execution."
      ],
      "metadata": {
        "id": "MazzMhrzcoDZ"
      }
    },
    {
      "cell_type": "markdown",
      "source": [
        "### 22. what are some common use cases for seaborn?"
      ],
      "metadata": {
        "id": "6YD9QKukcoAx"
      }
    },
    {
      "cell_type": "markdown",
      "source": [
        "Seaborn is a Python data visualization library built on top of Matplotlib, designed specifically for statistical graphics. It simplifies complex visualizations with cleaner syntax and beautiful default styles.\n",
        "\n",
        "\n",
        "Common Use Cases for Seaborn\n",
        "\n",
        "1. Visualizing Distributions\n",
        "\n",
        "    Understand the spread and shape of data.\n",
        "\n",
        "    Functions:\n",
        "\n",
        "        sns.histplot() – Histogram\n",
        "\n",
        "        sns.kdeplot() – Kernel density estimate\n",
        "\n",
        "        sns.displot() – Combined histogram/KDE plots\n",
        "\n",
        "2. Comparing Categories\n",
        "\n",
        "    Compare metrics across categorical variables.\n",
        "\n",
        "    Functions:\n",
        "\n",
        "        sns.barplot() – Categorical means with error bars\n",
        "\n",
        "        sns.boxplot() – Quartile-based spread\n",
        "\n",
        "        sns.violinplot() – KDE-based spread\n",
        "\n",
        "        sns.stripplot(), sns.swarmplot() – Raw data points\n",
        "\n",
        "3. Time Series Visualization\n",
        "\n",
        "    Plot trends over time.\n",
        "\n",
        "    Often used with lineplot() or relplot() for multiple conditions.       \n",
        "\n",
        "4. Correlation and Relationships\n",
        "\n",
        "    Understand relationships between numerical features.\n",
        "\n",
        "    Functions:\n",
        "\n",
        "        sns.scatterplot() – Scatter plots\n",
        "\n",
        "        sns.pairplot() – Grid of scatter plots with histograms\n",
        "\n",
        "        sns.heatmap() – Correlation matrices\n",
        "\n",
        "5. Multivariate Analysis\n",
        "\n",
        "    Analyze how multiple variables interact.\n",
        "\n",
        "    Functions:\n",
        "\n",
        "        sns.lmplot() – Linear regression with confidence intervals\n",
        "\n",
        "        sns.pairplot() – Pairwise relationships\n",
        "\n",
        "        sns.catplot() – General categorical plotting function\n",
        "\n",
        "\n",
        "6. Enhanced Data Presentation\n",
        "\n",
        "    Seaborn has a great style and color palette system.\n",
        "\n",
        "    Easy customization for publishing-quality plots:\n",
        "\n",
        "        sns.set_theme(style=\"whitegrid\")\n",
        "\n",
        "        Built-in color palettes like \"pastel\", \"dark\", \"muted\"\n",
        "\n",
        "\n",
        "Bonus: Exploratory Data Analysis (EDA)\n",
        "\n",
        "Seaborn is a go-to tool during EDA to:\n",
        "\n",
        "    Identify outliers\n",
        "\n",
        "    Spot trends and clusters\n",
        "\n",
        "    Visualize class balance in classification problems"
      ],
      "metadata": {
        "id": "ZosBKbascn-Q"
      }
    },
    {
      "cell_type": "markdown",
      "source": [
        "# Practical"
      ],
      "metadata": {
        "id": "qChfpvH4cm7X"
      }
    },
    {
      "cell_type": "code",
      "execution_count": null,
      "metadata": {
        "id": "N-30M1pxEBM0",
        "colab": {
          "base_uri": "https://localhost:8080/"
        },
        "outputId": "bf51bf72-c56e-42aa-f1b3-2f5ab09d02a8"
      },
      "outputs": [
        {
          "output_type": "stream",
          "name": "stdout",
          "text": [
            "2D Array:\n",
            " [[1 2 3]\n",
            " [4 5 6]\n",
            " [7 8 9]]\n",
            "\n",
            "Sum of each row: [ 6 15 24]\n"
          ]
        }
      ],
      "source": [
        "# 1. How do you create a 2D NumPy array & calculate the sum of each row?\n",
        "\n",
        "import numpy as np\n",
        "\n",
        "# Step 1: Create a 2D NumPy array\n",
        "arr = np.array([\n",
        "    [1, 2, 3],\n",
        "    [4, 5, 6],\n",
        "    [7, 8, 9]\n",
        "])\n",
        "\n",
        "# Step 2: Calculate the sum of each row\n",
        "row_sums = np.sum(arr, axis=1)\n",
        "\n",
        "print(\"2D Array:\\n\", arr)\n",
        "print(\"\\nSum of each row:\", row_sums)"
      ]
    },
    {
      "cell_type": "code",
      "source": [
        "# 2. wrtie a pandas script to find the mean of specific column in dataframe\n",
        "\n",
        "import pandas as pd\n",
        "\n",
        "# Create a sample DataFrame\n",
        "data = {\n",
        "    'Name': ['Alice', 'Bob', 'Charlie', 'David'],\n",
        "    'Age': [25, 30, 35, 40],\n",
        "    'Salary': [50000, 60000, 55000, 70000]\n",
        "}\n",
        "\n",
        "df = pd.DataFrame(data)\n",
        "\n",
        "# Find the mean of the 'Salary' column\n",
        "mean_salary = df['Salary'].mean()\n",
        "\n",
        "print(\"Mean Salary:\", mean_salary)\n"
      ],
      "metadata": {
        "colab": {
          "base_uri": "https://localhost:8080/"
        },
        "id": "n5DeYtbbg-F-",
        "outputId": "be807571-d8a4-414e-debf-19aa016b63ba"
      },
      "execution_count": null,
      "outputs": [
        {
          "output_type": "stream",
          "name": "stdout",
          "text": [
            "Mean Salary: 58750.0\n"
          ]
        }
      ]
    },
    {
      "cell_type": "code",
      "source": [
        "# 3. create a scatter plot using Matplotlib\n",
        "\n",
        "import matplotlib.pyplot as plt\n",
        "\n",
        "# Sample data\n",
        "x = [10, 20, 30, 40, 50]\n",
        "y = [5, 15, 25, 35, 45]\n",
        "\n",
        "# Create scatter plot\n",
        "plt.scatter(x, y, color='blue', marker='o', label='Data Points')\n",
        "\n",
        "# Add labels and title\n",
        "plt.xlabel('X Axis')\n",
        "plt.ylabel('Y Axis')\n",
        "plt.title('Simple Scatter Plot')\n",
        "\n",
        "# Add a legend\n",
        "plt.legend()\n",
        "\n",
        "# Show the plot\n",
        "plt.show()\n"
      ],
      "metadata": {
        "colab": {
          "base_uri": "https://localhost:8080/",
          "height": 472
        },
        "id": "VeBsq3q9hVEY",
        "outputId": "09224ce2-fb5b-4c50-a220-63860f22730b"
      },
      "execution_count": null,
      "outputs": [
        {
          "output_type": "display_data",
          "data": {
            "text/plain": [
              "<Figure size 640x480 with 1 Axes>"
            ],
            "image/png": "[encoded data removed]"
          },
          "metadata": {}
        }
      ]
    },
    {
      "cell_type": "code",
      "source": [
        "# 4.How do you calculate the corelation matrix using seborn & visualize with a heatmap\n",
        "\n",
        "import pandas as pd\n",
        "import seaborn as sns\n",
        "import matplotlib.pyplot as plt\n",
        "\n",
        "# Sample data\n",
        "data = {\n",
        "    'Math': [88, 92, 80, 89, 100],\n",
        "    'Science': [85, 95, 78, 90, 98],\n",
        "    'English': [70, 88, 75, 85, 90],\n",
        "    'History': [60, 65, 70, 72, 80]\n",
        "}\n",
        "\n",
        "# Create DataFrame\n",
        "df = pd.DataFrame(data)\n",
        "\n",
        "# Step 1: Calculate the correlation matrix\n",
        "corr_matrix = df.corr()\n",
        "\n",
        "# Step 2: Visualize with a heatmap\n",
        "plt.figure(figsize=(8, 6))\n",
        "sns.heatmap(corr_matrix, annot=True, cmap='coolwarm', fmt=\".2f\", linewidths=0.5)\n",
        "\n",
        "# Add title\n",
        "plt.title('Correlation Matrix Heatmap')\n",
        "plt.show()\n"
      ],
      "metadata": {
        "colab": {
          "base_uri": "https://localhost:8080/",
          "height": 545
        },
        "id": "RNs0W4aQh_5w",
        "outputId": "3a6e46c8-ca10-4a4a-b56c-11c045aa9d55"
      },
      "execution_count": null,
      "outputs": [
        {
          "output_type": "display_data",
          "data": {
            "text/plain": [
              "<Figure size 800x600 with 2 Axes>"
            ],
            "image/png": "[encoded data removed]"
          },
          "metadata": {}
        }
      ]
    },
    {
      "cell_type": "code",
      "source": [
        "# 5. Generate a bar plot using plotly\n",
        "\n",
        "import plotly.express as px\n",
        "import pandas as pd\n",
        "\n",
        "# Sample data\n",
        "data = {\n",
        "    'Fruits': ['Apples', 'Bananas', 'Cherries', 'Dates'],\n",
        "    'Quantity': [30, 45, 25, 10]\n",
        "}\n",
        "\n",
        "df = pd.DataFrame(data)\n",
        "\n",
        "# Create bar plot\n",
        "fig = px.bar(df, x='Fruits', y='Quantity', title='Fruit Quantity Bar Plot')\n",
        "\n",
        "# Show the plot\n",
        "fig.show()\n"
      ],
      "metadata": {
        "colab": {
          "base_uri": "https://localhost:8080/",
          "height": 542
        },
        "id": "Va0sANJBkfKA",
        "outputId": "e879ab7f-902b-4581-fc53-dbe9c4ca5e33"
      },
      "execution_count": null,
      "outputs": [
        {
          "output_type": "display_data",
          "data": {
            "text/html": [
              "<html>\n",
              "<head><meta charset=\"utf-8\" /></head>\n",
              "<body>\n",
              "    <div>            <script src=\"https://cdnjs.cloudflare.com/ajax/libs/mathjax/2.7.5/MathJax.js?config=TeX-AMS-MML_SVG\"></script><script type=\"text/javascript\">if (window.MathJax && window.MathJax.Hub && window.MathJax.Hub.Config) {window.MathJax.Hub.Config({SVG: {font: \"STIX-Web\"}});}</script>                <script type=\"text/javascript\">window.PlotlyConfig = {MathJaxConfig: 'local'};</script>\n",
              "        <script charset=\"utf-8\" src=\"https://cdn.plot.ly/plotly-2.35.2.min.js\"></script>                <div id=\"abffe23a-ff2c-4ad0-9633-20331e2b0686\" class=\"plotly-graph-div\" style=\"height:525px; width:100%;\"></div>            <script type=\"text/javascript\">                                    window.PLOTLYENV=window.PLOTLYENV || {};                                    if (document.getElementById(\"abffe23a-ff2c-4ad0-9633-20331e2b0686\")) {                    Plotly.newPlot(                        \"abffe23a-ff2c-4ad0-9633-20331e2b0686\",                        [{\"alignmentgroup\":\"True\",\"hovertemplate\":\"Fruits=%{x}\\u003cbr\\u003eQuantity=%{y}\\u003cextra\\u003e\\u003c\\u002fextra\\u003e\",\"legendgroup\":\"\",\"marker\":{\"color\":\"#636efa\",\"pattern\":{\"shape\":\"\"}},\"name\":\"\",\"offsetgroup\":\"\",\"orientation\":\"v\",\"showlegend\":false,\"textposition\":\"auto\",\"x\":[\"Apples\",\"Bananas\",\"Cherries\",\"Dates\"],\"xaxis\":\"x\",\"y\":[30,45,25,10],\"yaxis\":\"y\",\"type\":\"bar\"}],                        {\"template\":{\"data\":{\"histogram2dcontour\":[{\"type\":\"histogram2dcontour\",\"colorbar\":{\"outlinewidth\":0,\"ticks\":\"\"},\"colorscale\":[[0.0,\"#0d0887\"],[0.1111111111111111,\"#46039f\"],[0.2222222222222222,\"#7201a8\"],[0.3333333333333333,\"#9c179e\"],[0.4444444444444444,\"#bd3786\"],[0.5555555555555556,\"#d8576b\"],[0.6666666666666666,\"#ed7953\"],[0.7777777777777778,\"#fb9f3a\"],[0.8888888888888888,\"#fdca26\"],[1.0,\"#f0f921\"]]}],\"choropleth\":[{\"type\":\"choropleth\",\"colorbar\":{\"outlinewidth\":0,\"ticks\":\"\"}}],\"histogram2d\":[{\"type\":\"histogram2d\",\"colorbar\":{\"outlinewidth\":0,\"ticks\":\"\"},\"colorscale\":[[0.0,\"#0d0887\"],[0.1111111111111111,\"#46039f\"],[0.2222222222222222,\"#7201a8\"],[0.3333333333333333,\"#9c179e\"],[0.4444444444444444,\"#bd3786\"],[0.5555555555555556,\"#d8576b\"],[0.6666666666666666,\"#ed7953\"],[0.7777777777777778,\"#fb9f3a\"],[0.8888888888888888,\"#fdca26\"],[1.0,\"#f0f921\"]]}],\"heatmap\":[{\"type\":\"heatmap\",\"colorbar\":{\"outlinewidth\":0,\"ticks\":\"\"},\"colorscale\":[[0.0,\"#0d0887\"],[0.1111111111111111,\"#46039f\"],[0.2222222222222222,\"#7201a8\"],[0.3333333333333333,\"#9c179e\"],[0.4444444444444444,\"#bd3786\"],[0.5555555555555556,\"#d8576b\"],[0.6666666666666666,\"#ed7953\"],[0.7777777777777778,\"#fb9f3a\"],[0.8888888888888888,\"#fdca26\"],[1.0,\"#f0f921\"]]}],\"heatmapgl\":[{\"type\":\"heatmapgl\",\"colorbar\":{\"outlinewidth\":0,\"ticks\":\"\"},\"colorscale\":[[0.0,\"#0d0887\"],[0.1111111111111111,\"#46039f\"],[0.2222222222222222,\"#7201a8\"],[0.3333333333333333,\"#9c179e\"],[0.4444444444444444,\"#bd3786\"],[0.5555555555555556,\"#d8576b\"],[0.6666666666666666,\"#ed7953\"],[0.7777777777777778,\"#fb9f3a\"],[0.8888888888888888,\"#fdca26\"],[1.0,\"#f0f921\"]]}],\"contourcarpet\":[{\"type\":\"contourcarpet\",\"colorbar\":{\"outlinewidth\":0,\"ticks\":\"\"}}],\"contour\":[{\"type\":\"contour\",\"colorbar\":{\"outlinewidth\":0,\"ticks\":\"\"},\"colorscale\":[[0.0,\"#0d0887\"],[0.1111111111111111,\"#46039f\"],[0.2222222222222222,\"#7201a8\"],[0.3333333333333333,\"#9c179e\"],[0.4444444444444444,\"#bd3786\"],[0.5555555555555556,\"#d8576b\"],[0.6666666666666666,\"#ed7953\"],[0.7777777777777778,\"#fb9f3a\"],[0.8888888888888888,\"#fdca26\"],[1.0,\"#f0f921\"]]}],\"surface\":[{\"type\":\"surface\",\"colorbar\":{\"outlinewidth\":0,\"ticks\":\"\"},\"colorscale\":[[0.0,\"#0d0887\"],[0.1111111111111111,\"#46039f\"],[0.2222222222222222,\"#7201a8\"],[0.3333333333333333,\"#9c179e\"],[0.4444444444444444,\"#bd3786\"],[0.5555555555555556,\"#d8576b\"],[0.6666666666666666,\"#ed7953\"],[0.7777777777777778,\"#fb9f3a\"],[0.8888888888888888,\"#fdca26\"],[1.0,\"#f0f921\"]]}],\"mesh3d\":[{\"type\":\"mesh3d\",\"colorbar\":{\"outlinewidth\":0,\"ticks\":\"\"}}],\"scatter\":[{\"fillpattern\":{\"fillmode\":\"overlay\",\"size\":10,\"solidity\":0.2},\"type\":\"scatter\"}],\"parcoords\":[{\"type\":\"parcoords\",\"line\":{\"colorbar\":{\"outlinewidth\":0,\"ticks\":\"\"}}}],\"scatterpolargl\":[{\"type\":\"scatterpolargl\",\"marker\":{\"colorbar\":{\"outlinewidth\":0,\"ticks\":\"\"}}}],\"bar\":[{\"error_x\":{\"color\":\"#2a3f5f\"},\"error_y\":{\"color\":\"#2a3f5f\"},\"marker\":{\"line\":{\"color\":\"#E5ECF6\",\"width\":0.5},\"pattern\":{\"fillmode\":\"overlay\",\"size\":10,\"solidity\":0.2}},\"type\":\"bar\"}],\"scattergeo\":[{\"type\":\"scattergeo\",\"marker\":{\"colorbar\":{\"outlinewidth\":0,\"ticks\":\"\"}}}],\"scatterpolar\":[{\"type\":\"scatterpolar\",\"marker\":{\"colorbar\":{\"outlinewidth\":0,\"ticks\":\"\"}}}],\"histogram\":[{\"marker\":{\"pattern\":{\"fillmode\":\"overlay\",\"size\":10,\"solidity\":0.2}},\"type\":\"histogram\"}],\"scattergl\":[{\"type\":\"scattergl\",\"marker\":{\"colorbar\":{\"outlinewidth\":0,\"ticks\":\"\"}}}],\"scatter3d\":[{\"type\":\"scatter3d\",\"line\":{\"colorbar\":{\"outlinewidth\":0,\"ticks\":\"\"}},\"marker\":{\"colorbar\":{\"outlinewidth\":0,\"ticks\":\"\"}}}],\"scattermapbox\":[{\"type\":\"scattermapbox\",\"marker\":{\"colorbar\":{\"outlinewidth\":0,\"ticks\":\"\"}}}],\"scatterternary\":[{\"type\":\"scatterternary\",\"marker\":{\"colorbar\":{\"outlinewidth\":0,\"ticks\":\"\"}}}],\"scattercarpet\":[{\"type\":\"scattercarpet\",\"marker\":{\"colorbar\":{\"outlinewidth\":0,\"ticks\":\"\"}}}],\"carpet\":[{\"aaxis\":{\"endlinecolor\":\"#2a3f5f\",\"gridcolor\":\"white\",\"linecolor\":\"white\",\"minorgridcolor\":\"white\",\"startlinecolor\":\"#2a3f5f\"},\"baxis\":{\"endlinecolor\":\"#2a3f5f\",\"gridcolor\":\"white\",\"linecolor\":\"white\",\"minorgridcolor\":\"white\",\"startlinecolor\":\"#2a3f5f\"},\"type\":\"carpet\"}],\"table\":[{\"cells\":{\"fill\":{\"color\":\"#EBF0F8\"},\"line\":{\"color\":\"white\"}},\"header\":{\"fill\":{\"color\":\"#C8D4E3\"},\"line\":{\"color\":\"white\"}},\"type\":\"table\"}],\"barpolar\":[{\"marker\":{\"line\":{\"color\":\"#E5ECF6\",\"width\":0.5},\"pattern\":{\"fillmode\":\"overlay\",\"size\":10,\"solidity\":0.2}},\"type\":\"barpolar\"}],\"pie\":[{\"automargin\":true,\"type\":\"pie\"}]},\"layout\":{\"autotypenumbers\":\"strict\",\"colorway\":[\"#636efa\",\"#EF553B\",\"#00cc96\",\"#ab63fa\",\"#FFA15A\",\"#19d3f3\",\"#FF6692\",\"#B6E880\",\"#FF97FF\",\"#FECB52\"],\"font\":{\"color\":\"#2a3f5f\"},\"hovermode\":\"closest\",\"hoverlabel\":{\"align\":\"left\"},\"paper_bgcolor\":\"white\",\"plot_bgcolor\":\"#E5ECF6\",\"polar\":{\"bgcolor\":\"#E5ECF6\",\"angularaxis\":{\"gridcolor\":\"white\",\"linecolor\":\"white\",\"ticks\":\"\"},\"radialaxis\":{\"gridcolor\":\"white\",\"linecolor\":\"white\",\"ticks\":\"\"}},\"ternary\":{\"bgcolor\":\"#E5ECF6\",\"aaxis\":{\"gridcolor\":\"white\",\"linecolor\":\"white\",\"ticks\":\"\"},\"baxis\":{\"gridcolor\":\"white\",\"linecolor\":\"white\",\"ticks\":\"\"},\"caxis\":{\"gridcolor\":\"white\",\"linecolor\":\"white\",\"ticks\":\"\"}},\"coloraxis\":{\"colorbar\":{\"outlinewidth\":0,\"ticks\":\"\"}},\"colorscale\":{\"sequential\":[[0.0,\"#0d0887\"],[0.1111111111111111,\"#46039f\"],[0.2222222222222222,\"#7201a8\"],[0.3333333333333333,\"#9c179e\"],[0.4444444444444444,\"#bd3786\"],[0.5555555555555556,\"#d8576b\"],[0.6666666666666666,\"#ed7953\"],[0.7777777777777778,\"#fb9f3a\"],[0.8888888888888888,\"#fdca26\"],[1.0,\"#f0f921\"]],\"sequentialminus\":[[0.0,\"#0d0887\"],[0.1111111111111111,\"#46039f\"],[0.2222222222222222,\"#7201a8\"],[0.3333333333333333,\"#9c179e\"],[0.4444444444444444,\"#bd3786\"],[0.5555555555555556,\"#d8576b\"],[0.6666666666666666,\"#ed7953\"],[0.7777777777777778,\"#fb9f3a\"],[0.8888888888888888,\"#fdca26\"],[1.0,\"#f0f921\"]],\"diverging\":[[0,\"#8e0152\"],[0.1,\"#c51b7d\"],[0.2,\"#de77ae\"],[0.3,\"#f1b6da\"],[0.4,\"#fde0ef\"],[0.5,\"#f7f7f7\"],[0.6,\"#e6f5d0\"],[0.7,\"#b8e186\"],[0.8,\"#7fbc41\"],[0.9,\"#4d9221\"],[1,\"#276419\"]]},\"xaxis\":{\"gridcolor\":\"white\",\"linecolor\":\"white\",\"ticks\":\"\",\"title\":{\"standoff\":15},\"zerolinecolor\":\"white\",\"automargin\":true,\"zerolinewidth\":2},\"yaxis\":{\"gridcolor\":\"white\",\"linecolor\":\"white\",\"ticks\":\"\",\"title\":{\"standoff\":15},\"zerolinecolor\":\"white\",\"automargin\":true,\"zerolinewidth\":2},\"scene\":{\"xaxis\":{\"backgroundcolor\":\"#E5ECF6\",\"gridcolor\":\"white\",\"linecolor\":\"white\",\"showbackground\":true,\"ticks\":\"\",\"zerolinecolor\":\"white\",\"gridwidth\":2},\"yaxis\":{\"backgroundcolor\":\"#E5ECF6\",\"gridcolor\":\"white\",\"linecolor\":\"white\",\"showbackground\":true,\"ticks\":\"\",\"zerolinecolor\":\"white\",\"gridwidth\":2},\"zaxis\":{\"backgroundcolor\":\"#E5ECF6\",\"gridcolor\":\"white\",\"linecolor\":\"white\",\"showbackground\":true,\"ticks\":\"\",\"zerolinecolor\":\"white\",\"gridwidth\":2}},\"shapedefaults\":{\"line\":{\"color\":\"#2a3f5f\"}},\"annotationdefaults\":{\"arrowcolor\":\"#2a3f5f\",\"arrowhead\":0,\"arrowwidth\":1},\"geo\":{\"bgcolor\":\"white\",\"landcolor\":\"#E5ECF6\",\"subunitcolor\":\"white\",\"showland\":true,\"showlakes\":true,\"lakecolor\":\"white\"},\"title\":{\"x\":0.05},\"mapbox\":{\"style\":\"light\"}}},\"xaxis\":{\"anchor\":\"y\",\"domain\":[0.0,1.0],\"title\":{\"text\":\"Fruits\"}},\"yaxis\":{\"anchor\":\"x\",\"domain\":[0.0,1.0],\"title\":{\"text\":\"Quantity\"}},\"legend\":{\"tracegroupgap\":0},\"title\":{\"text\":\"Fruit Quantity Bar Plot\"},\"barmode\":\"relative\"},                        {\"responsive\": true}                    ).then(function(){\n",
              "                            \n",
              "var gd = document.getElementById('abffe23a-ff2c-4ad0-9633-20331e2b0686');\n",
              "var x = new MutationObserver(function (mutations, observer) {{\n",
              "        var display = window.getComputedStyle(gd).display;\n",
              "        if (!display || display === 'none') {{\n",
              "            console.log([gd, 'removed!']);\n",
              "            Plotly.purge(gd);\n",
              "            observer.disconnect();\n",
              "        }}\n",
              "}});\n",
              "\n",
              "// Listen for the removal of the full notebook cells\n",
              "var notebookContainer = gd.closest('#notebook-container');\n",
              "if (notebookContainer) {{\n",
              "    x.observe(notebookContainer, {childList: true});\n",
              "}}\n",
              "\n",
              "// Listen for the clearing of the current output cell\n",
              "var outputEl = gd.closest('.output');\n",
              "if (outputEl) {{\n",
              "    x.observe(outputEl, {childList: true});\n",
              "}}\n",
              "\n",
              "                        })                };                            </script>        </div>\n",
              "</body>\n",
              "</html>"
            ]
          },
          "metadata": {}
        }
      ]
    },
    {
      "cell_type": "code",
      "source": [
        "# 6. create a dataframe and add a new column based on an existing column\n",
        "\n",
        "import pandas as pd\n",
        "\n",
        "# Step 1: Create a sample DataFrame\n",
        "data = {\n",
        "    'Name': ['Alice', 'Bob', 'Charlie', 'David'],\n",
        "    'Salary': [50000, 60000, 55000, 70000]\n",
        "}\n",
        "\n",
        "df = pd.DataFrame(data)\n",
        "\n",
        "# Step 2: Add a new column based on the 'Salary' column\n",
        "# Example: Calculate 10% bonus\n",
        "df['Bonus'] = df['Salary'] * 0.10\n",
        "\n",
        "# Display the updated DataFrame\n",
        "print(df)\n"
      ],
      "metadata": {
        "colab": {
          "base_uri": "https://localhost:8080/"
        },
        "id": "2s1pk8wfk12e",
        "outputId": "eb0124ce-8b42-4771-8347-c3fea528d0eb"
      },
      "execution_count": null,
      "outputs": [
        {
          "output_type": "stream",
          "name": "stdout",
          "text": [
            "      Name  Salary   Bonus\n",
            "0    Alice   50000  5000.0\n",
            "1      Bob   60000  6000.0\n",
            "2  Charlie   55000  5500.0\n",
            "3    David   70000  7000.0\n"
          ]
        }
      ]
    },
    {
      "cell_type": "code",
      "source": [
        "# 7. write a program to perform element wise multiplication of two numpy arrays\n",
        "\n",
        "import numpy as np\n",
        "\n",
        "# Define two arrays\n",
        "arr1 = np.array([1, 2, 3, 4])\n",
        "arr2 = np.array([5, 6, 7, 8])\n",
        "\n",
        "# Element-wise multiplication\n",
        "result = arr1 * arr2\n",
        "\n",
        "print(\"Array 1:\", arr1)\n",
        "print(\"Array 2:\", arr2)\n",
        "print(\"Element-wise multiplication:\", result)\n"
      ],
      "metadata": {
        "colab": {
          "base_uri": "https://localhost:8080/"
        },
        "id": "fdlZeYuRm5Ar",
        "outputId": "f89a3477-2fac-48ab-d323-ed1a9eca4137"
      },
      "execution_count": null,
      "outputs": [
        {
          "output_type": "stream",
          "name": "stdout",
          "text": [
            "Array 1: [1 2 3 4]\n",
            "Array 2: [5 6 7 8]\n",
            "Element-wise multiplication: [ 5 12 21 32]\n"
          ]
        }
      ]
    },
    {
      "cell_type": "code",
      "source": [
        "# 8. create a line plot with multiple lines using Matplotlib\n",
        "\n",
        "import matplotlib.pyplot as plt\n",
        "\n",
        "# Sample data\n",
        "x = [1, 2, 3, 4, 5]\n",
        "y1 = [2, 3, 5, 7, 11]\n",
        "y2 = [1, 4, 6, 8, 10]\n",
        "y3 = [5, 3, 4, 2, 1]\n",
        "\n",
        "# Create line plot with multiple lines\n",
        "plt.plot(x, y1, label='Line 1', marker='o')\n",
        "plt.plot(x, y2, label='Line 2', marker='s')\n",
        "plt.plot(x, y3, label='Line 3', marker='^')\n",
        "\n",
        "# Add title and labels\n",
        "plt.title('Multiple Line Plot')\n",
        "plt.xlabel('X Axis')\n",
        "plt.ylabel('Y Axis')\n",
        "\n",
        "# Show legend\n",
        "plt.legend()\n",
        "\n",
        "# Show the plot\n",
        "plt.show()\n"
      ],
      "metadata": {
        "colab": {
          "base_uri": "https://localhost:8080/",
          "height": 472
        },
        "id": "Lt3h3c-vnXOO",
        "outputId": "0c6e7e09-102e-4a5e-afc2-46b512715ae7"
      },
      "execution_count": null,
      "outputs": [
        {
          "output_type": "display_data",
          "data": {
            "text/plain": [
              "<Figure size 640x480 with 1 Axes>"
            ],
            "image/png": "[encoded data removed]"
          },
          "metadata": {}
        }
      ]
    },
    {
      "cell_type": "code",
      "source": [
        "# 9. Generate a pandas DataFrame and filter rows where a column value is greater than threshold\n",
        "\n",
        "import pandas as pd\n",
        "\n",
        "# Step 1: Create a sample DataFrame\n",
        "data = {\n",
        "    'Name': ['Alice', 'Bob', 'Charlie', 'David', 'Eva'],\n",
        "    'Age': [25, 32, 18, 47, 29],\n",
        "    'Salary': [50000, 62000, 48000, 71000, 54000]\n",
        "}\n",
        "\n",
        "df = pd.DataFrame(data)\n",
        "\n",
        "# Step 2: Define the threshold\n",
        "age_threshold = 30\n",
        "\n",
        "# Step 3: Filter rows where 'Age' is greater than the threshold\n",
        "filtered_df = df[df['Age'] > age_threshold]\n",
        "\n",
        "print(filtered_df)\n"
      ],
      "metadata": {
        "colab": {
          "base_uri": "https://localhost:8080/"
        },
        "id": "pHHym4PEno0c",
        "outputId": "8fdb1676-db5a-4a5b-cd9f-f1280c7592c7"
      },
      "execution_count": null,
      "outputs": [
        {
          "output_type": "stream",
          "name": "stdout",
          "text": [
            "    Name  Age  Salary\n",
            "1    Bob   32   62000\n",
            "3  David   47   71000\n"
          ]
        }
      ]
    },
    {
      "cell_type": "code",
      "source": [
        "# 10. create a histogram using seaborn to visualize a distribution\n",
        "\n",
        "import seaborn as sns\n",
        "import matplotlib.pyplot as plt\n",
        "\n",
        "# Sample data: list of ages\n",
        "ages = [22, 25, 29, 30, 35, 35, 40, 45, 50, 55, 60, 65, 70, 75, 80]\n",
        "\n",
        "# Create a histogram\n",
        "sns.histplot(ages, bins=8, kde=False, color='skyblue')\n",
        "\n",
        "# Add title and labels\n",
        "plt.title('Age Distribution')\n",
        "plt.xlabel('Age')\n",
        "plt.ylabel('Frequency')\n",
        "\n",
        "# Show the plot\n",
        "plt.show()\n"
      ],
      "metadata": {
        "colab": {
          "base_uri": "https://localhost:8080/",
          "height": 472
        },
        "id": "-ACBShPYoCit",
        "outputId": "f2dc76ea-470e-4ac7-f987-b3950253ec6d"
      },
      "execution_count": null,
      "outputs": [
        {
          "output_type": "display_data",
          "data": {
            "text/plain": [
              "<Figure size 640x480 with 1 Axes>"
            ],
            "image/png": "[encoded data removed]"
          },
          "metadata": {}
        }
      ]
    },
    {
      "cell_type": "code",
      "source": [
        "# 11. Perform a matrix multiplication using numpy\n",
        "\n",
        "import numpy as np\n",
        "\n",
        "# Define two 2D arrays (matrices)\n",
        "A = np.array([[1, 2],\n",
        "              [3, 4]])\n",
        "\n",
        "B = np.array([[5, 6],\n",
        "              [7, 8]])\n",
        "\n",
        "# Method 1: Using np.dot()\n",
        "result_dot = np.dot(A, B)\n",
        "\n",
        "# Method 2: Using @ operator (Python 3.5+)\n",
        "result_at = A @ B\n",
        "\n",
        "print(\"Matrix A:\\n\", A)\n",
        "print(\"Matrix B:\\n\", B)\n",
        "print(\"Result using np.dot():\\n\", result_dot)\n",
        "print(\"Result using @ operator:\\n\", result_at)\n"
      ],
      "metadata": {
        "colab": {
          "base_uri": "https://localhost:8080/"
        },
        "id": "cIKt74pNoVP0",
        "outputId": "af02813e-3a31-4477-f31f-96e502e9a1cc"
      },
      "execution_count": null,
      "outputs": [
        {
          "output_type": "stream",
          "name": "stdout",
          "text": [
            "Matrix A:\n",
            " [[1 2]\n",
            " [3 4]]\n",
            "Matrix B:\n",
            " [[5 6]\n",
            " [7 8]]\n",
            "Result using np.dot():\n",
            " [[19 22]\n",
            " [43 50]]\n",
            "Result using @ operator:\n",
            " [[19 22]\n",
            " [43 50]]\n"
          ]
        }
      ]
    },
    {
      "cell_type": "code",
      "source": [
        "# 12. use pandas to load CSV file & display its first 5 rows\n",
        "\n",
        "import pandas as pd\n",
        "from google.colab import drive\n",
        "\n",
        "# Step 1: Mount Google Drive\n",
        "drive.mount('/content/drive')\n",
        "\n",
        "# Load the CSV file into a DataFrame\n",
        "df = pd.read_csv('/content/drive/My Drive/Colab Notebooks/annual-enterprise-survey-2023.csv')\n",
        "\n",
        "# Display the first 5 rows\n",
        "df.head()"
      ],
      "metadata": {
        "colab": {
          "base_uri": "https://localhost:8080/",
          "height": 224
        },
        "id": "XXR6omvSojlN",
        "outputId": "9198ca22-7338-401f-94f0-f278daa35c67"
      },
      "execution_count": null,
      "outputs": [
        {
          "output_type": "stream",
          "name": "stdout",
          "text": [
            "Drive already mounted at /content/drive; to attempt to forcibly remount, call drive.mount(\"/content/drive\", force_remount=True).\n"
          ]
        },
        {
          "output_type": "execute_result",
          "data": {
            "text/plain": [
              "   year industry_code_ANZSIC               industry_name_ANZSIC rme_size_grp  \\\n",
              "0  2011                    A  Agriculture, Forestry and Fishing          a_0   \n",
              "1  2011                    A  Agriculture, Forestry and Fishing          a_0   \n",
              "2  2011                    A  Agriculture, Forestry and Fishing          a_0   \n",
              "3  2011                    A  Agriculture, Forestry and Fishing          a_0   \n",
              "4  2011                    A  Agriculture, Forestry and Fishing          a_0   \n",
              "\n",
              "                                          variable  value               unit  \n",
              "0                                    Activity unit  46134              COUNT  \n",
              "1                           Rolling mean employees      0              COUNT  \n",
              "2                          Salaries and wages paid    279  DOLLARS(millions)  \n",
              "3  Sales, government funding, grants and subsidies   8187  DOLLARS(millions)  \n",
              "4                                     Total income   8866  DOLLARS(millions)  "
            ],
            "text/html": [
              "\n",
              "  <div id=\"df-2c2c5ce7-3777-499b-84f8-6f54efee676c\" class=\"colab-df-container\">\n",
              "    <div>\n",
              "<style scoped>\n",
              "    .dataframe tbody tr th:only-of-type {\n",
              "        vertical-align: middle;\n",
              "    }\n",
              "\n",
              "    .dataframe tbody tr th {\n",
              "        vertical-align: top;\n",
              "    }\n",
              "\n",
              "    .dataframe thead th {\n",
              "        text-align: right;\n",
              "    }\n",
              "</style>\n",
              "<table border=\"1\" class=\"dataframe\">\n",
              "  <thead>\n",
              "    <tr style=\"text-align: right;\">\n",
              "      <th></th>\n",
              "      <th>year</th>\n",
              "      <th>industry_code_ANZSIC</th>\n",
              "      <th>industry_name_ANZSIC</th>\n",
              "      <th>rme_size_grp</th>\n",
              "      <th>variable</th>\n",
              "      <th>value</th>\n",
              "      <th>unit</th>\n",
              "    </tr>\n",
              "  </thead>\n",
              "  <tbody>\n",
              "    <tr>\n",
              "      <th>0</th>\n",
              "      <td>2011</td>\n",
              "      <td>A</td>\n",
              "      <td>Agriculture, Forestry and Fishing</td>\n",
              "      <td>a_0</td>\n",
              "      <td>Activity unit</td>\n",
              "      <td>46134</td>\n",
              "      <td>COUNT</td>\n",
              "    </tr>\n",
              "    <tr>\n",
              "      <th>1</th>\n",
              "      <td>2011</td>\n",
              "      <td>A</td>\n",
              "      <td>Agriculture, Forestry and Fishing</td>\n",
              "      <td>a_0</td>\n",
              "      <td>Rolling mean employees</td>\n",
              "      <td>0</td>\n",
              "      <td>COUNT</td>\n",
              "    </tr>\n",
              "    <tr>\n",
              "      <th>2</th>\n",
              "      <td>2011</td>\n",
              "      <td>A</td>\n",
              "      <td>Agriculture, Forestry and Fishing</td>\n",
              "      <td>a_0</td>\n",
              "      <td>Salaries and wages paid</td>\n",
              "      <td>279</td>\n",
              "      <td>DOLLARS(millions)</td>\n",
              "    </tr>\n",
              "    <tr>\n",
              "      <th>3</th>\n",
              "      <td>2011</td>\n",
              "      <td>A</td>\n",
              "      <td>Agriculture, Forestry and Fishing</td>\n",
              "      <td>a_0</td>\n",
              "      <td>Sales, government funding, grants and subsidies</td>\n",
              "      <td>8187</td>\n",
              "      <td>DOLLARS(millions)</td>\n",
              "    </tr>\n",
              "    <tr>\n",
              "      <th>4</th>\n",
              "      <td>2011</td>\n",
              "      <td>A</td>\n",
              "      <td>Agriculture, Forestry and Fishing</td>\n",
              "      <td>a_0</td>\n",
              "      <td>Total income</td>\n",
              "      <td>8866</td>\n",
              "      <td>DOLLARS(millions)</td>\n",
              "    </tr>\n",
              "  </tbody>\n",
              "</table>\n",
              "</div>\n",
              "    <div class=\"colab-df-buttons\">\n",
              "\n",
              "  <div class=\"colab-df-container\">\n",
              "    <button class=\"colab-df-convert\" onclick=\"convertToInteractive('df-2c2c5ce7-3777-499b-84f8-6f54efee676c')\"\n",
              "            title=\"Convert this dataframe to an interactive table.\"\n",
              "            style=\"display:none;\">\n",
              "\n",
              "  <svg xmlns=\"http://www.w3.org/2000/svg\" height=\"24px\" viewBox=\"0 -960 960 960\">\n",
              "    <path d=\"M120-120v-720h720v720H120Zm60-500h600v-160H180v160Zm220 220h160v-160H400v160Zm0 220h160v-160H400v160ZM180-400h160v-160H180v160Zm440 0h160v-160H620v160ZM180-180h160v-160H180v160Zm440 0h160v-160H620v160Z\"/>\n",
              "  </svg>\n",
              "    </button>\n",
              "\n",
              "  <style>\n",
              "    .colab-df-container {\n",
              "      display:flex;\n",
              "      gap: 12px;\n",
              "    }\n",
              "\n",
              "    .colab-df-convert {\n",
              "      background-color: #E8F0FE;\n",
              "      border: none;\n",
              "      border-radius: 50%;\n",
              "      cursor: pointer;\n",
              "      display: none;\n",
              "      fill: #1967D2;\n",
              "      height: 32px;\n",
              "      padding: 0 0 0 0;\n",
              "      width: 32px;\n",
              "    }\n",
              "\n",
              "    .colab-df-convert:hover {\n",
              "      background-color: #E2EBFA;\n",
              "      box-shadow: 0px 1px 2px rgba(60, 64, 67, 0.3), 0px 1px 3px 1px rgba(60, 64, 67, 0.15);\n",
              "      fill: #174EA6;\n",
              "    }\n",
              "\n",
              "    .colab-df-buttons div {\n",
              "      margin-bottom: 4px;\n",
              "    }\n",
              "\n",
              "    [theme=dark] .colab-df-convert {\n",
              "      background-color: #3B4455;\n",
              "      fill: #D2E3FC;\n",
              "    }\n",
              "\n",
              "    [theme=dark] .colab-df-convert:hover {\n",
              "      background-color: #434B5C;\n",
              "      box-shadow: 0px 1px 3px 1px rgba(0, 0, 0, 0.15);\n",
              "      filter: drop-shadow(0px 1px 2px rgba(0, 0, 0, 0.3));\n",
              "      fill: #FFFFFF;\n",
              "    }\n",
              "  </style>\n",
              "\n",
              "    <script>\n",
              "      const buttonEl =\n",
              "        document.querySelector('#df-2c2c5ce7-3777-499b-84f8-6f54efee676c button.colab-df-convert');\n",
              "      buttonEl.style.display =\n",
              "        google.colab.kernel.accessAllowed ? 'block' : 'none';\n",
              "\n",
              "      async function convertToInteractive(key) {\n",
              "        const element = document.querySelector('#df-2c2c5ce7-3777-499b-84f8-6f54efee676c');\n",
              "        const dataTable =\n",
              "          await google.colab.kernel.invokeFunction('convertToInteractive',\n",
              "                                                    [key], {});\n",
              "        if (!dataTable) return;\n",
              "\n",
              "        const docLinkHtml = 'Like what you see? Visit the ' +\n",
              "          '<a target=\"_blank\" href=https://colab.research.google.com/notebooks/data_table.ipynb>data table notebook</a>'\n",
              "          + ' to learn more about interactive tables.';\n",
              "        element.innerHTML = '';\n",
              "        dataTable['output_type'] = 'display_data';\n",
              "        await google.colab.output.renderOutput(dataTable, element);\n",
              "        const docLink = document.createElement('div');\n",
              "        docLink.innerHTML = docLinkHtml;\n",
              "        element.appendChild(docLink);\n",
              "      }\n",
              "    </script>\n",
              "  </div>\n",
              "\n",
              "\n",
              "    <div id=\"df-f48d127a-fa93-403e-a3d1-5a8f5b15598c\">\n",
              "      <button class=\"colab-df-quickchart\" onclick=\"quickchart('df-f48d127a-fa93-403e-a3d1-5a8f5b15598c')\"\n",
              "                title=\"Suggest charts\"\n",
              "                style=\"display:none;\">\n",
              "\n",
              "<svg xmlns=\"http://www.w3.org/2000/svg\" height=\"24px\"viewBox=\"0 0 24 24\"\n",
              "     width=\"24px\">\n",
              "    <g>\n",
              "        <path d=\"M19 3H5c-1.1 0-2 .9-2 2v14c0 1.1.9 2 2 2h14c1.1 0 2-.9 2-2V5c0-1.1-.9-2-2-2zM9 17H7v-7h2v7zm4 0h-2V7h2v10zm4 0h-2v-4h2v4z\"/>\n",
              "    </g>\n",
              "</svg>\n",
              "      </button>\n",
              "\n",
              "<style>\n",
              "  .colab-df-quickchart {\n",
              "      --bg-color: #E8F0FE;\n",
              "      --fill-color: #1967D2;\n",
              "      --hover-bg-color: #E2EBFA;\n",
              "      --hover-fill-color: #174EA6;\n",
              "      --disabled-fill-color: #AAA;\n",
              "      --disabled-bg-color: #DDD;\n",
              "  }\n",
              "\n",
              "  [theme=dark] .colab-df-quickchart {\n",
              "      --bg-color: #3B4455;\n",
              "      --fill-color: #D2E3FC;\n",
              "      --hover-bg-color: #434B5C;\n",
              "      --hover-fill-color: #FFFFFF;\n",
              "      --disabled-bg-color: #3B4455;\n",
              "      --disabled-fill-color: #666;\n",
              "  }\n",
              "\n",
              "  .colab-df-quickchart {\n",
              "    background-color: var(--bg-color);\n",
              "    border: none;\n",
              "    border-radius: 50%;\n",
              "    cursor: pointer;\n",
              "    display: none;\n",
              "    fill: var(--fill-color);\n",
              "    height: 32px;\n",
              "    padding: 0;\n",
              "    width: 32px;\n",
              "  }\n",
              "\n",
              "  .colab-df-quickchart:hover {\n",
              "    background-color: var(--hover-bg-color);\n",
              "    box-shadow: 0 1px 2px rgba(60, 64, 67, 0.3), 0 1px 3px 1px rgba(60, 64, 67, 0.15);\n",
              "    fill: var(--button-hover-fill-color);\n",
              "  }\n",
              "\n",
              "  .colab-df-quickchart-complete:disabled,\n",
              "  .colab-df-quickchart-complete:disabled:hover {\n",
              "    background-color: var(--disabled-bg-color);\n",
              "    fill: var(--disabled-fill-color);\n",
              "    box-shadow: none;\n",
              "  }\n",
              "\n",
              "  .colab-df-spinner {\n",
              "    border: 2px solid var(--fill-color);\n",
              "    border-color: transparent;\n",
              "    border-bottom-color: var(--fill-color);\n",
              "    animation:\n",
              "      spin 1s steps(1) infinite;\n",
              "  }\n",
              "\n",
              "  @keyframes spin {\n",
              "    0% {\n",
              "      border-color: transparent;\n",
              "      border-bottom-color: var(--fill-color);\n",
              "      border-left-color: var(--fill-color);\n",
              "    }\n",
              "    20% {\n",
              "      border-color: transparent;\n",
              "      border-left-color: var(--fill-color);\n",
              "      border-top-color: var(--fill-color);\n",
              "    }\n",
              "    30% {\n",
              "      border-color: transparent;\n",
              "      border-left-color: var(--fill-color);\n",
              "      border-top-color: var(--fill-color);\n",
              "      border-right-color: var(--fill-color);\n",
              "    }\n",
              "    40% {\n",
              "      border-color: transparent;\n",
              "      border-right-color: var(--fill-color);\n",
              "      border-top-color: var(--fill-color);\n",
              "    }\n",
              "    60% {\n",
              "      border-color: transparent;\n",
              "      border-right-color: var(--fill-color);\n",
              "    }\n",
              "    80% {\n",
              "      border-color: transparent;\n",
              "      border-right-color: var(--fill-color);\n",
              "      border-bottom-color: var(--fill-color);\n",
              "    }\n",
              "    90% {\n",
              "      border-color: transparent;\n",
              "      border-bottom-color: var(--fill-color);\n",
              "    }\n",
              "  }\n",
              "</style>\n",
              "\n",
              "      <script>\n",
              "        async function quickchart(key) {\n",
              "          const quickchartButtonEl =\n",
              "            document.querySelector('#' + key + ' button');\n",
              "          quickchartButtonEl.disabled = true;  // To prevent multiple clicks.\n",
              "          quickchartButtonEl.classList.add('colab-df-spinner');\n",
              "          try {\n",
              "            const charts = await google.colab.kernel.invokeFunction(\n",
              "                'suggestCharts', [key], {});\n",
              "          } catch (error) {\n",
              "            console.error('Error during call to suggestCharts:', error);\n",
              "          }\n",
              "          quickchartButtonEl.classList.remove('colab-df-spinner');\n",
              "          quickchartButtonEl.classList.add('colab-df-quickchart-complete');\n",
              "        }\n",
              "        (() => {\n",
              "          let quickchartButtonEl =\n",
              "            document.querySelector('#df-f48d127a-fa93-403e-a3d1-5a8f5b15598c button');\n",
              "          quickchartButtonEl.style.display =\n",
              "            google.colab.kernel.accessAllowed ? 'block' : 'none';\n",
              "        })();\n",
              "      </script>\n",
              "    </div>\n",
              "\n",
              "    </div>\n",
              "  </div>\n"
            ],
            "application/vnd.google.colaboratory.intrinsic+json": {
              "type": "dataframe",
              "variable_name": "df",
              "summary": "{\n  \"name\": \"df\",\n  \"rows\": 20124,\n  \"fields\": [\n    {\n      \"column\": \"year\",\n      \"properties\": {\n        \"dtype\": \"number\",\n        \"std\": 3,\n        \"min\": 2011,\n        \"max\": 2023,\n        \"num_unique_values\": 13,\n        \"samples\": [\n          2022,\n          2020,\n          2011\n        ],\n        \"semantic_type\": \"\",\n        \"description\": \"\"\n      }\n    },\n    {\n      \"column\": \"industry_code_ANZSIC\",\n      \"properties\": {\n        \"dtype\": \"category\",\n        \"num_unique_values\": 20,\n        \"samples\": [\n          \"A\",\n          \"R\",\n          \"P\"\n        ],\n        \"semantic_type\": \"\",\n        \"description\": \"\"\n      }\n    },\n    {\n      \"column\": \"industry_name_ANZSIC\",\n      \"properties\": {\n        \"dtype\": \"category\",\n        \"num_unique_values\": 20,\n        \"samples\": [\n          \"Agriculture, Forestry and Fishing\",\n          \"Arts and Recreation Services\",\n          \"Education and Training\"\n        ],\n        \"semantic_type\": \"\",\n        \"description\": \"\"\n      }\n    },\n    {\n      \"column\": \"rme_size_grp\",\n      \"properties\": {\n        \"dtype\": \"category\",\n        \"num_unique_values\": 10,\n        \"samples\": [\n          \"i_Industry_Total\",\n          \"b_1-5\",\n          \"f_50-99\"\n        ],\n        \"semantic_type\": \"\",\n        \"description\": \"\"\n      }\n    },\n    {\n      \"column\": \"variable\",\n      \"properties\": {\n        \"dtype\": \"category\",\n        \"num_unique_values\": 9,\n        \"samples\": [\n          \"Total assets\",\n          \"Rolling mean employees\",\n          \"Total expenditure\"\n        ],\n        \"semantic_type\": \"\",\n        \"description\": \"\"\n      }\n    },\n    {\n      \"column\": \"value\",\n      \"properties\": {\n        \"dtype\": \"category\",\n        \"num_unique_values\": 8330,\n        \"samples\": [\n          \"20841\",\n          \"3621\",\n          \"11658\"\n        ],\n        \"semantic_type\": \"\",\n        \"description\": \"\"\n      }\n    },\n    {\n      \"column\": \"unit\",\n      \"properties\": {\n        \"dtype\": \"category\",\n        \"num_unique_values\": 2,\n        \"samples\": [\n          \"DOLLARS(millions)\",\n          \"COUNT\"\n        ],\n        \"semantic_type\": \"\",\n        \"description\": \"\"\n      }\n    }\n  ]\n}"
            }
          },
          "metadata": {},
          "execution_count": 21
        }
      ]
    },
    {
      "cell_type": "code",
      "source": [
        "# 13. create a 3D scatter plot using plotly\n",
        "\n",
        "import plotly.express as px\n",
        "import pandas as pd\n",
        "\n",
        "# Sample data\n",
        "data = {\n",
        "    'X': [1, 2, 3, 4, 5],\n",
        "    'Y': [10, 11, 12, 13, 14],\n",
        "    'Z': [5, 6, 7, 8, 9],\n",
        "    'Category': ['A', 'B', 'A', 'B', 'A']\n",
        "}\n",
        "\n",
        "df = pd.DataFrame(data)\n",
        "\n",
        "# Create 3D scatter plot\n",
        "fig = px.scatter_3d(df, x='X', y='Y', z='Z', color='Category', symbol='Category',\n",
        "                    title='3D Scatter Plot Example')\n",
        "# Show the plot\n",
        "fig.show()\n"
      ],
      "metadata": {
        "colab": {
          "base_uri": "https://localhost:8080/",
          "height": 542
        },
        "id": "RoowHDduo7Y1",
        "outputId": "ded61366-03e7-46d4-f65d-2dc431cdfc3e"
      },
      "execution_count": 22,
      "outputs": [
        {
          "output_type": "display_data",
          "data": {
            "text/html": [
              "<html>\n",
              "<head><meta charset=\"utf-8\" /></head>\n",
              "<body>\n",
              "    <div>            <script src=\"https://cdnjs.cloudflare.com/ajax/libs/mathjax/2.7.5/MathJax.js?config=TeX-AMS-MML_SVG\"></script><script type=\"text/javascript\">if (window.MathJax && window.MathJax.Hub && window.MathJax.Hub.Config) {window.MathJax.Hub.Config({SVG: {font: \"STIX-Web\"}});}</script>                <script type=\"text/javascript\">window.PlotlyConfig = {MathJaxConfig: 'local'};</script>\n",
              "        <script charset=\"utf-8\" src=\"https://cdn.plot.ly/plotly-2.35.2.min.js\"></script>                <div id=\"0c65652f-5125-4721-99cf-7b5c37d2d5f5\" class=\"plotly-graph-div\" style=\"height:525px; width:100%;\"></div>            <script type=\"text/javascript\">                                    window.PLOTLYENV=window.PLOTLYENV || {};                                    if (document.getElementById(\"0c65652f-5125-4721-99cf-7b5c37d2d5f5\")) {                    Plotly.newPlot(                        \"0c65652f-5125-4721-99cf-7b5c37d2d5f5\",                        [{\"hovertemplate\":\"Category=A\\u003cbr\\u003eX=%{x}\\u003cbr\\u003eY=%{y}\\u003cbr\\u003eZ=%{z}\\u003cextra\\u003e\\u003c\\u002fextra\\u003e\",\"legendgroup\":\"A\",\"marker\":{\"color\":\"#636efa\",\"symbol\":\"circle\"},\"mode\":\"markers\",\"name\":\"A\",\"scene\":\"scene\",\"showlegend\":true,\"x\":[1,3,5],\"y\":[10,12,14],\"z\":[5,7,9],\"type\":\"scatter3d\"},{\"hovertemplate\":\"Category=B\\u003cbr\\u003eX=%{x}\\u003cbr\\u003eY=%{y}\\u003cbr\\u003eZ=%{z}\\u003cextra\\u003e\\u003c\\u002fextra\\u003e\",\"legendgroup\":\"B\",\"marker\":{\"color\":\"#EF553B\",\"symbol\":\"diamond\"},\"mode\":\"markers\",\"name\":\"B\",\"scene\":\"scene\",\"showlegend\":true,\"x\":[2,4],\"y\":[11,13],\"z\":[6,8],\"type\":\"scatter3d\"}],                        {\"template\":{\"data\":{\"histogram2dcontour\":[{\"type\":\"histogram2dcontour\",\"colorbar\":{\"outlinewidth\":0,\"ticks\":\"\"},\"colorscale\":[[0.0,\"#0d0887\"],[0.1111111111111111,\"#46039f\"],[0.2222222222222222,\"#7201a8\"],[0.3333333333333333,\"#9c179e\"],[0.4444444444444444,\"#bd3786\"],[0.5555555555555556,\"#d8576b\"],[0.6666666666666666,\"#ed7953\"],[0.7777777777777778,\"#fb9f3a\"],[0.8888888888888888,\"#fdca26\"],[1.0,\"#f0f921\"]]}],\"choropleth\":[{\"type\":\"choropleth\",\"colorbar\":{\"outlinewidth\":0,\"ticks\":\"\"}}],\"histogram2d\":[{\"type\":\"histogram2d\",\"colorbar\":{\"outlinewidth\":0,\"ticks\":\"\"},\"colorscale\":[[0.0,\"#0d0887\"],[0.1111111111111111,\"#46039f\"],[0.2222222222222222,\"#7201a8\"],[0.3333333333333333,\"#9c179e\"],[0.4444444444444444,\"#bd3786\"],[0.5555555555555556,\"#d8576b\"],[0.6666666666666666,\"#ed7953\"],[0.7777777777777778,\"#fb9f3a\"],[0.8888888888888888,\"#fdca26\"],[1.0,\"#f0f921\"]]}],\"heatmap\":[{\"type\":\"heatmap\",\"colorbar\":{\"outlinewidth\":0,\"ticks\":\"\"},\"colorscale\":[[0.0,\"#0d0887\"],[0.1111111111111111,\"#46039f\"],[0.2222222222222222,\"#7201a8\"],[0.3333333333333333,\"#9c179e\"],[0.4444444444444444,\"#bd3786\"],[0.5555555555555556,\"#d8576b\"],[0.6666666666666666,\"#ed7953\"],[0.7777777777777778,\"#fb9f3a\"],[0.8888888888888888,\"#fdca26\"],[1.0,\"#f0f921\"]]}],\"heatmapgl\":[{\"type\":\"heatmapgl\",\"colorbar\":{\"outlinewidth\":0,\"ticks\":\"\"},\"colorscale\":[[0.0,\"#0d0887\"],[0.1111111111111111,\"#46039f\"],[0.2222222222222222,\"#7201a8\"],[0.3333333333333333,\"#9c179e\"],[0.4444444444444444,\"#bd3786\"],[0.5555555555555556,\"#d8576b\"],[0.6666666666666666,\"#ed7953\"],[0.7777777777777778,\"#fb9f3a\"],[0.8888888888888888,\"#fdca26\"],[1.0,\"#f0f921\"]]}],\"contourcarpet\":[{\"type\":\"contourcarpet\",\"colorbar\":{\"outlinewidth\":0,\"ticks\":\"\"}}],\"contour\":[{\"type\":\"contour\",\"colorbar\":{\"outlinewidth\":0,\"ticks\":\"\"},\"colorscale\":[[0.0,\"#0d0887\"],[0.1111111111111111,\"#46039f\"],[0.2222222222222222,\"#7201a8\"],[0.3333333333333333,\"#9c179e\"],[0.4444444444444444,\"#bd3786\"],[0.5555555555555556,\"#d8576b\"],[0.6666666666666666,\"#ed7953\"],[0.7777777777777778,\"#fb9f3a\"],[0.8888888888888888,\"#fdca26\"],[1.0,\"#f0f921\"]]}],\"surface\":[{\"type\":\"surface\",\"colorbar\":{\"outlinewidth\":0,\"ticks\":\"\"},\"colorscale\":[[0.0,\"#0d0887\"],[0.1111111111111111,\"#46039f\"],[0.2222222222222222,\"#7201a8\"],[0.3333333333333333,\"#9c179e\"],[0.4444444444444444,\"#bd3786\"],[0.5555555555555556,\"#d8576b\"],[0.6666666666666666,\"#ed7953\"],[0.7777777777777778,\"#fb9f3a\"],[0.8888888888888888,\"#fdca26\"],[1.0,\"#f0f921\"]]}],\"mesh3d\":[{\"type\":\"mesh3d\",\"colorbar\":{\"outlinewidth\":0,\"ticks\":\"\"}}],\"scatter\":[{\"fillpattern\":{\"fillmode\":\"overlay\",\"size\":10,\"solidity\":0.2},\"type\":\"scatter\"}],\"parcoords\":[{\"type\":\"parcoords\",\"line\":{\"colorbar\":{\"outlinewidth\":0,\"ticks\":\"\"}}}],\"scatterpolargl\":[{\"type\":\"scatterpolargl\",\"marker\":{\"colorbar\":{\"outlinewidth\":0,\"ticks\":\"\"}}}],\"bar\":[{\"error_x\":{\"color\":\"#2a3f5f\"},\"error_y\":{\"color\":\"#2a3f5f\"},\"marker\":{\"line\":{\"color\":\"#E5ECF6\",\"width\":0.5},\"pattern\":{\"fillmode\":\"overlay\",\"size\":10,\"solidity\":0.2}},\"type\":\"bar\"}],\"scattergeo\":[{\"type\":\"scattergeo\",\"marker\":{\"colorbar\":{\"outlinewidth\":0,\"ticks\":\"\"}}}],\"scatterpolar\":[{\"type\":\"scatterpolar\",\"marker\":{\"colorbar\":{\"outlinewidth\":0,\"ticks\":\"\"}}}],\"histogram\":[{\"marker\":{\"pattern\":{\"fillmode\":\"overlay\",\"size\":10,\"solidity\":0.2}},\"type\":\"histogram\"}],\"scattergl\":[{\"type\":\"scattergl\",\"marker\":{\"colorbar\":{\"outlinewidth\":0,\"ticks\":\"\"}}}],\"scatter3d\":[{\"type\":\"scatter3d\",\"line\":{\"colorbar\":{\"outlinewidth\":0,\"ticks\":\"\"}},\"marker\":{\"colorbar\":{\"outlinewidth\":0,\"ticks\":\"\"}}}],\"scattermapbox\":[{\"type\":\"scattermapbox\",\"marker\":{\"colorbar\":{\"outlinewidth\":0,\"ticks\":\"\"}}}],\"scatterternary\":[{\"type\":\"scatterternary\",\"marker\":{\"colorbar\":{\"outlinewidth\":0,\"ticks\":\"\"}}}],\"scattercarpet\":[{\"type\":\"scattercarpet\",\"marker\":{\"colorbar\":{\"outlinewidth\":0,\"ticks\":\"\"}}}],\"carpet\":[{\"aaxis\":{\"endlinecolor\":\"#2a3f5f\",\"gridcolor\":\"white\",\"linecolor\":\"white\",\"minorgridcolor\":\"white\",\"startlinecolor\":\"#2a3f5f\"},\"baxis\":{\"endlinecolor\":\"#2a3f5f\",\"gridcolor\":\"white\",\"linecolor\":\"white\",\"minorgridcolor\":\"white\",\"startlinecolor\":\"#2a3f5f\"},\"type\":\"carpet\"}],\"table\":[{\"cells\":{\"fill\":{\"color\":\"#EBF0F8\"},\"line\":{\"color\":\"white\"}},\"header\":{\"fill\":{\"color\":\"#C8D4E3\"},\"line\":{\"color\":\"white\"}},\"type\":\"table\"}],\"barpolar\":[{\"marker\":{\"line\":{\"color\":\"#E5ECF6\",\"width\":0.5},\"pattern\":{\"fillmode\":\"overlay\",\"size\":10,\"solidity\":0.2}},\"type\":\"barpolar\"}],\"pie\":[{\"automargin\":true,\"type\":\"pie\"}]},\"layout\":{\"autotypenumbers\":\"strict\",\"colorway\":[\"#636efa\",\"#EF553B\",\"#00cc96\",\"#ab63fa\",\"#FFA15A\",\"#19d3f3\",\"#FF6692\",\"#B6E880\",\"#FF97FF\",\"#FECB52\"],\"font\":{\"color\":\"#2a3f5f\"},\"hovermode\":\"closest\",\"hoverlabel\":{\"align\":\"left\"},\"paper_bgcolor\":\"white\",\"plot_bgcolor\":\"#E5ECF6\",\"polar\":{\"bgcolor\":\"#E5ECF6\",\"angularaxis\":{\"gridcolor\":\"white\",\"linecolor\":\"white\",\"ticks\":\"\"},\"radialaxis\":{\"gridcolor\":\"white\",\"linecolor\":\"white\",\"ticks\":\"\"}},\"ternary\":{\"bgcolor\":\"#E5ECF6\",\"aaxis\":{\"gridcolor\":\"white\",\"linecolor\":\"white\",\"ticks\":\"\"},\"baxis\":{\"gridcolor\":\"white\",\"linecolor\":\"white\",\"ticks\":\"\"},\"caxis\":{\"gridcolor\":\"white\",\"linecolor\":\"white\",\"ticks\":\"\"}},\"coloraxis\":{\"colorbar\":{\"outlinewidth\":0,\"ticks\":\"\"}},\"colorscale\":{\"sequential\":[[0.0,\"#0d0887\"],[0.1111111111111111,\"#46039f\"],[0.2222222222222222,\"#7201a8\"],[0.3333333333333333,\"#9c179e\"],[0.4444444444444444,\"#bd3786\"],[0.5555555555555556,\"#d8576b\"],[0.6666666666666666,\"#ed7953\"],[0.7777777777777778,\"#fb9f3a\"],[0.8888888888888888,\"#fdca26\"],[1.0,\"#f0f921\"]],\"sequentialminus\":[[0.0,\"#0d0887\"],[0.1111111111111111,\"#46039f\"],[0.2222222222222222,\"#7201a8\"],[0.3333333333333333,\"#9c179e\"],[0.4444444444444444,\"#bd3786\"],[0.5555555555555556,\"#d8576b\"],[0.6666666666666666,\"#ed7953\"],[0.7777777777777778,\"#fb9f3a\"],[0.8888888888888888,\"#fdca26\"],[1.0,\"#f0f921\"]],\"diverging\":[[0,\"#8e0152\"],[0.1,\"#c51b7d\"],[0.2,\"#de77ae\"],[0.3,\"#f1b6da\"],[0.4,\"#fde0ef\"],[0.5,\"#f7f7f7\"],[0.6,\"#e6f5d0\"],[0.7,\"#b8e186\"],[0.8,\"#7fbc41\"],[0.9,\"#4d9221\"],[1,\"#276419\"]]},\"xaxis\":{\"gridcolor\":\"white\",\"linecolor\":\"white\",\"ticks\":\"\",\"title\":{\"standoff\":15},\"zerolinecolor\":\"white\",\"automargin\":true,\"zerolinewidth\":2},\"yaxis\":{\"gridcolor\":\"white\",\"linecolor\":\"white\",\"ticks\":\"\",\"title\":{\"standoff\":15},\"zerolinecolor\":\"white\",\"automargin\":true,\"zerolinewidth\":2},\"scene\":{\"xaxis\":{\"backgroundcolor\":\"#E5ECF6\",\"gridcolor\":\"white\",\"linecolor\":\"white\",\"showbackground\":true,\"ticks\":\"\",\"zerolinecolor\":\"white\",\"gridwidth\":2},\"yaxis\":{\"backgroundcolor\":\"#E5ECF6\",\"gridcolor\":\"white\",\"linecolor\":\"white\",\"showbackground\":true,\"ticks\":\"\",\"zerolinecolor\":\"white\",\"gridwidth\":2},\"zaxis\":{\"backgroundcolor\":\"#E5ECF6\",\"gridcolor\":\"white\",\"linecolor\":\"white\",\"showbackground\":true,\"ticks\":\"\",\"zerolinecolor\":\"white\",\"gridwidth\":2}},\"shapedefaults\":{\"line\":{\"color\":\"#2a3f5f\"}},\"annotationdefaults\":{\"arrowcolor\":\"#2a3f5f\",\"arrowhead\":0,\"arrowwidth\":1},\"geo\":{\"bgcolor\":\"white\",\"landcolor\":\"#E5ECF6\",\"subunitcolor\":\"white\",\"showland\":true,\"showlakes\":true,\"lakecolor\":\"white\"},\"title\":{\"x\":0.05},\"mapbox\":{\"style\":\"light\"}}},\"scene\":{\"domain\":{\"x\":[0.0,1.0],\"y\":[0.0,1.0]},\"xaxis\":{\"title\":{\"text\":\"X\"}},\"yaxis\":{\"title\":{\"text\":\"Y\"}},\"zaxis\":{\"title\":{\"text\":\"Z\"}}},\"legend\":{\"title\":{\"text\":\"Category\"},\"tracegroupgap\":0},\"title\":{\"text\":\"3D Scatter Plot Example\"}},                        {\"responsive\": true}                    ).then(function(){\n",
              "                            \n",
              "var gd = document.getElementById('0c65652f-5125-4721-99cf-7b5c37d2d5f5');\n",
              "var x = new MutationObserver(function (mutations, observer) {{\n",
              "        var display = window.getComputedStyle(gd).display;\n",
              "        if (!display || display === 'none') {{\n",
              "            console.log([gd, 'removed!']);\n",
              "            Plotly.purge(gd);\n",
              "            observer.disconnect();\n",
              "        }}\n",
              "}});\n",
              "\n",
              "// Listen for the removal of the full notebook cells\n",
              "var notebookContainer = gd.closest('#notebook-container');\n",
              "if (notebookContainer) {{\n",
              "    x.observe(notebookContainer, {childList: true});\n",
              "}}\n",
              "\n",
              "// Listen for the clearing of the current output cell\n",
              "var outputEl = gd.closest('.output');\n",
              "if (outputEl) {{\n",
              "    x.observe(outputEl, {childList: true});\n",
              "}}\n",
              "\n",
              "                        })                };                            </script>        </div>\n",
              "</body>\n",
              "</html>"
            ]
          },
          "metadata": {}
        }
      ]
    }
  ]
}